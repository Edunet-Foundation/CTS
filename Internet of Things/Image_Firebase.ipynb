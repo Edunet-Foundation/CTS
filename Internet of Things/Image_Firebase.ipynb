{
  "nbformat": 4,
  "nbformat_minor": 0,
  "metadata": {
    "colab": {
      "name": "Image_Firebase.ipynb",
      "provenance": [],
      "authorship_tag": "ABX9TyPfzMLjT40uF4eUaC0gq0FK",
      "include_colab_link": true
    },
    "kernelspec": {
      "name": "python3",
      "display_name": "Python 3"
    },
    "language_info": {
      "name": "python"
    }
  },
  "cells": [
    {
      "cell_type": "markdown",
      "metadata": {
        "id": "view-in-github",
        "colab_type": "text"
      },
      "source": [
        "<a href=\"https://colab.research.google.com/github/Edunet-Foundation/CTS/blob/main/Internet%20of%20Things/Image_Firebase.ipynb\" target=\"_parent\"><img src=\"https://colab.research.google.com/assets/colab-badge.svg\" alt=\"Open In Colab\"/></a>"
      ]
    },
    {
      "cell_type": "code",
      "metadata": {
        "id": "pDMIUA4vamMv"
      },
      "source": [
        "!pip install pyrebase --quiet"
      ],
      "execution_count": null,
      "outputs": []
    },
    {
      "cell_type": "code",
      "metadata": {
        "id": "ud5-5fhfadYb"
      },
      "source": [
        "import pyrebase\n",
        "\n",
        "# Your credentials after create a app web project.\n",
        "config = {\n",
        "    \"apiKey\": \"your_apiKey\",\n",
        "    \"authDomain\": \"your_authDomain\",\n",
        "    \"databaseURL\": \"your_databaseURL\",\n",
        "    \"projectId\": \"your_projectId\",\n",
        "    \"storageBucket\": \"your_storageBucket\",\n",
        "    \"messagingSenderId\": \"your_messagingSenderId\",\n",
        "    \"appId\": \"your_appId\",\n",
        "    \"measurementId\": \"your_measurementId\"\n",
        "}\n",
        "\n",
        "\n",
        "firebase = pyrebase.initialize_app(config)\n",
        "storage = firebase.storage()\n",
        "\n",
        "path_on_cloud = \"<folder>/<file>\"\n",
        "path_local = \"<file>\"\n",
        "\n",
        "# Upload\n",
        "storage.child(path_on_cloud).put(path_local)\n",
        "\n",
        "# Download\n",
        "storage.child(path_on_cloud).download(\"<file_downloaded>\")\n",
        "\n",
        "\n",
        "#https://stackoverflow.com/questions/65965299/keyerror-databaseurl-while-firebase-authentication-in-python"
      ],
      "execution_count": null,
      "outputs": []
    }
  ]
}