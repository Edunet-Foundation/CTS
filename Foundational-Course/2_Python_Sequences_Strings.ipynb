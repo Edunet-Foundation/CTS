{
  "nbformat": 4,
  "nbformat_minor": 0,
  "metadata": {
    "kernelspec": {
      "display_name": "Python 3",
      "language": "python",
      "name": "python3"
    },
    "language_info": {
      "codemirror_mode": {
        "name": "ipython",
        "version": 3
      },
      "file_extension": ".py",
      "mimetype": "text/x-python",
      "name": "python",
      "nbconvert_exporter": "python",
      "pygments_lexer": "ipython3",
      "version": "3.7.6"
    },
    "colab": {
      "name": "2. Python Sequences- Strings.ipynb",
      "provenance": [],
      "include_colab_link": true
    }
  },
  "cells": [
    {
      "cell_type": "markdown",
      "metadata": {
        "id": "view-in-github",
        "colab_type": "text"
      },
      "source": [
        "<a href=\"https://colab.research.google.com/github/Edunet-Foundation/CTS/blob/main/Foundational-Course/2_Python_Sequences_Strings.ipynb\" target=\"_parent\"><img src=\"https://colab.research.google.com/assets/colab-badge.svg\" alt=\"Open In Colab\"/></a>"
      ]
    },
    {
      "cell_type": "markdown",
      "metadata": {
        "id": "_fhSvA4cFBwp"
      },
      "source": [
        "# Python Sequences- Strings"
      ]
    },
    {
      "cell_type": "markdown",
      "metadata": {
        "id": "B2BIB65-FBwy"
      },
      "source": [
        "##### Strings in python are sequnnce oc characters that can be subscripted and worked uppon using various functionalities"
      ]
    },
    {
      "cell_type": "code",
      "metadata": {
        "id": "ifFOujdgFBwz",
        "outputId": "fc353e3c-790b-48c0-dec4-c818daf2d447"
      },
      "source": [
        "s='hello'\n",
        "\n",
        "print(s)"
      ],
      "execution_count": null,
      "outputs": [
        {
          "name": "stdout",
          "output_type": "stream",
          "text": [
            "hello\n"
          ]
        }
      ]
    },
    {
      "cell_type": "markdown",
      "metadata": {
        "id": "VyZSrZMWFBw2"
      },
      "source": [
        "##### To check type of string variable"
      ]
    },
    {
      "cell_type": "code",
      "metadata": {
        "id": "WnftAY6KFBw3",
        "outputId": "aed5c52f-41bf-4e09-f6d8-e9435b69ca20"
      },
      "source": [
        "print(type(s))"
      ],
      "execution_count": null,
      "outputs": [
        {
          "name": "stdout",
          "output_type": "stream",
          "text": [
            "<class 'str'>\n"
          ]
        }
      ]
    },
    {
      "cell_type": "markdown",
      "metadata": {
        "id": "4QDIFCDqFBw4"
      },
      "source": [
        "##### To find length of string"
      ]
    },
    {
      "cell_type": "code",
      "metadata": {
        "id": "XPIdrZPqFBw5",
        "outputId": "9685d26d-5bac-413e-8674-6b5e70fd0d97"
      },
      "source": [
        "print(len(s))"
      ],
      "execution_count": null,
      "outputs": [
        {
          "name": "stdout",
          "output_type": "stream",
          "text": [
            "5\n"
          ]
        }
      ]
    },
    {
      "cell_type": "markdown",
      "metadata": {
        "id": "l2ieyad_FBw6"
      },
      "source": [
        "##### String characters can be reffered through index values, From left side, index value starts from 0\n",
        "##### From right, or from end, reverse index is also supported in python where last element has index -1, previous to last has -2, & so on"
      ]
    },
    {
      "cell_type": "code",
      "metadata": {
        "id": "2fBupMclFBw7",
        "outputId": "aafaae6f-f424-468c-f71b-ef571c79caab"
      },
      "source": [
        "s[0]"
      ],
      "execution_count": null,
      "outputs": [
        {
          "data": {
            "text/plain": [
              "'h'"
            ]
          },
          "execution_count": 7,
          "metadata": {},
          "output_type": "execute_result"
        }
      ]
    },
    {
      "cell_type": "code",
      "metadata": {
        "id": "CcKCiTDVFBw8",
        "outputId": "2ea4a906-bf7c-45fe-caee-22063d2e2a6e"
      },
      "source": [
        "s[1]"
      ],
      "execution_count": null,
      "outputs": [
        {
          "data": {
            "text/plain": [
              "'e'"
            ]
          },
          "execution_count": 8,
          "metadata": {},
          "output_type": "execute_result"
        }
      ]
    },
    {
      "cell_type": "code",
      "metadata": {
        "id": "Do6ZXfAgFBw9",
        "outputId": "64448257-06b9-4273-faeb-9b054bf32723"
      },
      "source": [
        "s[-1]"
      ],
      "execution_count": null,
      "outputs": [
        {
          "data": {
            "text/plain": [
              "'o'"
            ]
          },
          "execution_count": 9,
          "metadata": {},
          "output_type": "execute_result"
        }
      ]
    },
    {
      "cell_type": "code",
      "metadata": {
        "id": "QxnjqXtbFBw-",
        "outputId": "6b5d0031-ae21-444b-a293-f51f4753b97a"
      },
      "source": [
        "s[-2]"
      ],
      "execution_count": null,
      "outputs": [
        {
          "data": {
            "text/plain": [
              "'l'"
            ]
          },
          "execution_count": 10,
          "metadata": {},
          "output_type": "execute_result"
        }
      ]
    },
    {
      "cell_type": "markdown",
      "metadata": {
        "id": "DFgZ--RSFBw-"
      },
      "source": [
        "##### Strings subset can be found using index range"
      ]
    },
    {
      "cell_type": "code",
      "metadata": {
        "id": "SnieZMdHFBw-",
        "outputId": "8b7563a4-e67b-4725-cba3-367e8f287f0e"
      },
      "source": [
        "s[0:2]"
      ],
      "execution_count": null,
      "outputs": [
        {
          "data": {
            "text/plain": [
              "'he'"
            ]
          },
          "execution_count": 11,
          "metadata": {},
          "output_type": "execute_result"
        }
      ]
    },
    {
      "cell_type": "code",
      "metadata": {
        "id": "ukNVhgn9FBw_",
        "outputId": "2f071a79-bb0f-482b-a674-8f5151655643"
      },
      "source": [
        "s[-3:-1]"
      ],
      "execution_count": null,
      "outputs": [
        {
          "data": {
            "text/plain": [
              "'ll'"
            ]
          },
          "execution_count": 13,
          "metadata": {},
          "output_type": "execute_result"
        }
      ]
    },
    {
      "cell_type": "code",
      "metadata": {
        "id": "A7PfhBmoFBw_",
        "outputId": "f7685c06-a244-478a-c89e-cad8d654b7b9"
      },
      "source": [
        "s[2:]"
      ],
      "execution_count": null,
      "outputs": [
        {
          "data": {
            "text/plain": [
              "'llo'"
            ]
          },
          "execution_count": 14,
          "metadata": {},
          "output_type": "execute_result"
        }
      ]
    },
    {
      "cell_type": "code",
      "metadata": {
        "id": "bI93-m56FBxA",
        "outputId": "caf074f5-7c9f-49f0-fb95-1e15a1c12568"
      },
      "source": [
        "s[:-2]"
      ],
      "execution_count": null,
      "outputs": [
        {
          "data": {
            "text/plain": [
              "'hel'"
            ]
          },
          "execution_count": 15,
          "metadata": {},
          "output_type": "execute_result"
        }
      ]
    },
    {
      "cell_type": "markdown",
      "metadata": {
        "id": "7Th4KAkfFBxA"
      },
      "source": [
        "###### String objects are immutable, can not be altered once created, can be replaced with new string"
      ]
    },
    {
      "cell_type": "code",
      "metadata": {
        "id": "-tK0mvKtFBxA",
        "outputId": "2f937b30-f443-424b-f260-b0386caf2edb"
      },
      "source": [
        "s[0]='k'\n",
        "# This will throw error, because string elements can not be modified with indexing"
      ],
      "execution_count": null,
      "outputs": [
        {
          "ename": "TypeError",
          "evalue": "'str' object does not support item assignment",
          "output_type": "error",
          "traceback": [
            "\u001b[1;31m---------------------------------------------------------------------------\u001b[0m",
            "\u001b[1;31mTypeError\u001b[0m                                 Traceback (most recent call last)",
            "\u001b[1;32m<ipython-input-18-f9d0bb8d4cd2>\u001b[0m in \u001b[0;36m<module>\u001b[1;34m\u001b[0m\n\u001b[1;32m----> 1\u001b[1;33m \u001b[0ms\u001b[0m\u001b[1;33m[\u001b[0m\u001b[1;36m0\u001b[0m\u001b[1;33m]\u001b[0m\u001b[1;33m=\u001b[0m\u001b[1;34m'k'\u001b[0m\u001b[1;33m\u001b[0m\u001b[1;33m\u001b[0m\u001b[0m\n\u001b[0m\u001b[0;32m      2\u001b[0m \u001b[1;31m# This will throw error, because string elements can not be modified with indexing\u001b[0m\u001b[1;33m\u001b[0m\u001b[1;33m\u001b[0m\u001b[1;33m\u001b[0m\u001b[0m\n",
            "\u001b[1;31mTypeError\u001b[0m: 'str' object does not support item assignment"
          ]
        }
      ]
    },
    {
      "cell_type": "code",
      "metadata": {
        "id": "WePQY-SLFBxB",
        "outputId": "1afa43ce-339e-4a07-ad98-f6d922cbabb3"
      },
      "source": [
        "s='welcome'\n",
        "s"
      ],
      "execution_count": null,
      "outputs": [
        {
          "data": {
            "text/plain": [
              "'welcome'"
            ]
          },
          "execution_count": 17,
          "metadata": {},
          "output_type": "execute_result"
        }
      ]
    },
    {
      "cell_type": "markdown",
      "metadata": {
        "id": "6_90OSajFBxB"
      },
      "source": [
        "##### If you wish to replace parts of string, use replace function\n",
        "\n",
        "##### s2=s.replace(str,str)"
      ]
    },
    {
      "cell_type": "code",
      "metadata": {
        "id": "5NiStyNvFBxC"
      },
      "source": [
        "s2=s.replace(s[0],'k')"
      ],
      "execution_count": null,
      "outputs": []
    },
    {
      "cell_type": "code",
      "metadata": {
        "id": "CBjuT6kzFBxC",
        "outputId": "eeb4eac2-9b85-4818-9c89-40f98a4f4dd4"
      },
      "source": [
        "s2"
      ],
      "execution_count": null,
      "outputs": [
        {
          "data": {
            "text/plain": [
              "'kelcome'"
            ]
          },
          "execution_count": 35,
          "metadata": {},
          "output_type": "execute_result"
        }
      ]
    },
    {
      "cell_type": "code",
      "metadata": {
        "id": "6WN5PCCCFBxC",
        "outputId": "8403d1d1-4e05-4395-f263-a8bea34daa90"
      },
      "source": [
        "s"
      ],
      "execution_count": null,
      "outputs": [
        {
          "data": {
            "text/plain": [
              "'welcome'"
            ]
          },
          "execution_count": 36,
          "metadata": {},
          "output_type": "execute_result"
        }
      ]
    },
    {
      "cell_type": "markdown",
      "metadata": {
        "id": "aHRT_8VXFBxC"
      },
      "source": [
        "##### Strings can be concatenated using + or * symbols"
      ]
    },
    {
      "cell_type": "code",
      "metadata": {
        "id": "nIoW9i3fFBxD",
        "outputId": "5f2358a2-92cc-4b8b-c464-627cd03d1728"
      },
      "source": [
        "s1='hello'\n",
        "s2='india'\n",
        "\n",
        "s1+s2"
      ],
      "execution_count": null,
      "outputs": [
        {
          "data": {
            "text/plain": [
              "'helloindia'"
            ]
          },
          "execution_count": 37,
          "metadata": {},
          "output_type": "execute_result"
        }
      ]
    },
    {
      "cell_type": "code",
      "metadata": {
        "id": "UebE2Oo8FBxD",
        "outputId": "6da75896-dbf2-4464-91cb-632b2f4c84c2"
      },
      "source": [
        "s2*5"
      ],
      "execution_count": null,
      "outputs": [
        {
          "data": {
            "text/plain": [
              "'indiaindiaindiaindiaindia'"
            ]
          },
          "execution_count": 38,
          "metadata": {},
          "output_type": "execute_result"
        }
      ]
    },
    {
      "cell_type": "markdown",
      "metadata": {
        "id": "hYeal5sgFBxD"
      },
      "source": [
        "##### We can change string to upper or lower case strings using upper() and lower() functions"
      ]
    },
    {
      "cell_type": "code",
      "metadata": {
        "id": "yWUk6EZVFBxD",
        "outputId": "8d708ddc-13d9-4e6a-dccd-abd5a1db3da4"
      },
      "source": [
        "s.upper()"
      ],
      "execution_count": null,
      "outputs": [
        {
          "data": {
            "text/plain": [
              "'WELCOME'"
            ]
          },
          "execution_count": 39,
          "metadata": {},
          "output_type": "execute_result"
        }
      ]
    },
    {
      "cell_type": "code",
      "metadata": {
        "id": "XU3l84NoFBxD",
        "outputId": "b6dcd300-59df-4c9f-fd8e-a56d21638c17"
      },
      "source": [
        "s='HELLO'\n",
        "s.lower()"
      ],
      "execution_count": null,
      "outputs": [
        {
          "data": {
            "text/plain": [
              "'hello'"
            ]
          },
          "execution_count": 40,
          "metadata": {},
          "output_type": "execute_result"
        }
      ]
    },
    {
      "cell_type": "markdown",
      "metadata": {
        "id": "-buRYqEWFBxD"
      },
      "source": [
        "##### We can find index of substring in a string"
      ]
    },
    {
      "cell_type": "code",
      "metadata": {
        "id": "mTVhIm2EFBxE",
        "outputId": "6d135fb6-d776-414a-c113-b8ebf78b99eb"
      },
      "source": [
        "s.index('L') #left most index is returned"
      ],
      "execution_count": null,
      "outputs": [
        {
          "data": {
            "text/plain": [
              "2"
            ]
          },
          "execution_count": 43,
          "metadata": {},
          "output_type": "execute_result"
        }
      ]
    },
    {
      "cell_type": "markdown",
      "metadata": {
        "id": "6JoP82a4FBxE"
      },
      "source": [
        "##### We can check string for uppercase, lowercase, alphabets, alphanumeric"
      ]
    },
    {
      "cell_type": "code",
      "metadata": {
        "id": "JCQx6bJeFBxE",
        "outputId": "d9001785-64f9-46ae-f3d6-24c7d9c87722"
      },
      "source": [
        "s.isupper()"
      ],
      "execution_count": null,
      "outputs": [
        {
          "data": {
            "text/plain": [
              "True"
            ]
          },
          "execution_count": 47,
          "metadata": {},
          "output_type": "execute_result"
        }
      ]
    },
    {
      "cell_type": "code",
      "metadata": {
        "id": "tnIzKklOFBxE",
        "outputId": "06914e33-46f1-40d7-e0bf-45a3305b229e"
      },
      "source": [
        "s.islower()"
      ],
      "execution_count": null,
      "outputs": [
        {
          "data": {
            "text/plain": [
              "False"
            ]
          },
          "execution_count": 48,
          "metadata": {},
          "output_type": "execute_result"
        }
      ]
    },
    {
      "cell_type": "code",
      "metadata": {
        "id": "tPQdaFySFBxE",
        "outputId": "be82494d-776f-47d0-91de-12ac23baa7c4"
      },
      "source": [
        "s.isalpha()"
      ],
      "execution_count": null,
      "outputs": [
        {
          "data": {
            "text/plain": [
              "True"
            ]
          },
          "execution_count": 49,
          "metadata": {},
          "output_type": "execute_result"
        }
      ]
    },
    {
      "cell_type": "code",
      "metadata": {
        "id": "AirPQXPUFBxE",
        "outputId": "e6e912ba-794d-44e1-a064-1cc425ba1d0f"
      },
      "source": [
        "s.isalnum()"
      ],
      "execution_count": null,
      "outputs": [
        {
          "data": {
            "text/plain": [
              "True"
            ]
          },
          "execution_count": 51,
          "metadata": {},
          "output_type": "execute_result"
        }
      ]
    },
    {
      "cell_type": "code",
      "metadata": {
        "id": "sV92WgisFBxE",
        "outputId": "83029d5d-aebb-4672-c117-44e9ebfe5159"
      },
      "source": [
        "s='123'\n",
        "s.isdigit()"
      ],
      "execution_count": null,
      "outputs": [
        {
          "data": {
            "text/plain": [
              "True"
            ]
          },
          "execution_count": 52,
          "metadata": {},
          "output_type": "execute_result"
        }
      ]
    },
    {
      "cell_type": "code",
      "metadata": {
        "id": "Y_ZusvvOFBxF",
        "outputId": "c900a603-70a8-4e7c-e144-734f0dc0bf70"
      },
      "source": [
        "s.isdecimal()"
      ],
      "execution_count": null,
      "outputs": [
        {
          "data": {
            "text/plain": [
              "True"
            ]
          },
          "execution_count": 53,
          "metadata": {},
          "output_type": "execute_result"
        }
      ]
    },
    {
      "cell_type": "markdown",
      "metadata": {
        "id": "vmy-GIs4FBxF"
      },
      "source": [
        "#### String sentences can be splitted into parts using split() function"
      ]
    },
    {
      "cell_type": "code",
      "metadata": {
        "id": "Vfi33vT2FBxF"
      },
      "source": [
        "s='Hello all students, I am glad to meet you all!'"
      ],
      "execution_count": null,
      "outputs": []
    },
    {
      "cell_type": "code",
      "metadata": {
        "id": "3OyeVnpoFBxF"
      },
      "source": [
        "words=s.split(' ')"
      ],
      "execution_count": null,
      "outputs": []
    },
    {
      "cell_type": "code",
      "metadata": {
        "id": "qWgeZfBWFBxF",
        "outputId": "65196ea4-263b-4b36-9944-dd420168a399"
      },
      "source": [
        "print(words)"
      ],
      "execution_count": null,
      "outputs": [
        {
          "name": "stdout",
          "output_type": "stream",
          "text": [
            "['Hello', 'all', 'students,', 'I', 'am', 'glad', 'to', 'meet', 'you', 'all!']\n"
          ]
        }
      ]
    },
    {
      "cell_type": "code",
      "metadata": {
        "id": "XnEFjghQFBxG"
      },
      "source": [
        "s='myname@gmail.com'"
      ],
      "execution_count": null,
      "outputs": []
    },
    {
      "cell_type": "code",
      "metadata": {
        "id": "BX0dN6gzFBxG"
      },
      "source": [
        "domain=s.split('@')"
      ],
      "execution_count": null,
      "outputs": []
    },
    {
      "cell_type": "code",
      "metadata": {
        "id": "Pny4QwaDFBxG",
        "outputId": "e894a802-3799-49ac-a356-a7b734c93770"
      },
      "source": [
        "domain"
      ],
      "execution_count": null,
      "outputs": [
        {
          "data": {
            "text/plain": [
              "['myname', 'gmail.com']"
            ]
          },
          "execution_count": 60,
          "metadata": {},
          "output_type": "execute_result"
        }
      ]
    },
    {
      "cell_type": "code",
      "metadata": {
        "id": "o5B3OxBBFBxG",
        "outputId": "337ff8cc-98ed-449a-d8d3-bdd90e7b7cce"
      },
      "source": [
        "domain[1]"
      ],
      "execution_count": null,
      "outputs": [
        {
          "data": {
            "text/plain": [
              "'gmail.com'"
            ]
          },
          "execution_count": 61,
          "metadata": {},
          "output_type": "execute_result"
        }
      ]
    },
    {
      "cell_type": "code",
      "metadata": {
        "id": "taHYCuu2FBxG"
      },
      "source": [
        "parts=s.partition('@')"
      ],
      "execution_count": null,
      "outputs": []
    },
    {
      "cell_type": "code",
      "metadata": {
        "id": "TtLeLlGNFBxG",
        "outputId": "7b1608ed-42a4-4df5-ebf5-a7ea87c5c5ac"
      },
      "source": [
        "print(parts)"
      ],
      "execution_count": null,
      "outputs": [
        {
          "name": "stdout",
          "output_type": "stream",
          "text": [
            "('myname', '@', 'gmail.com')\n"
          ]
        }
      ]
    },
    {
      "cell_type": "code",
      "metadata": {
        "id": "Une6qZ-pFBxH",
        "outputId": "a3482ec8-f518-4cf4-f7da-a80bc8cb73d7"
      },
      "source": [
        "parts[1]"
      ],
      "execution_count": null,
      "outputs": [
        {
          "data": {
            "text/plain": [
              "'@'"
            ]
          },
          "execution_count": 67,
          "metadata": {},
          "output_type": "execute_result"
        }
      ]
    },
    {
      "cell_type": "code",
      "metadata": {
        "id": "mK1lUMNKFBxH"
      },
      "source": [
        ""
      ],
      "execution_count": null,
      "outputs": []
    }
  ]
}