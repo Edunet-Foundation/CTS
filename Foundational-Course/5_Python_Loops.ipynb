{
  "nbformat": 4,
  "nbformat_minor": 0,
  "metadata": {
    "kernelspec": {
      "display_name": "Python 3",
      "language": "python",
      "name": "python3"
    },
    "language_info": {
      "codemirror_mode": {
        "name": "ipython",
        "version": 3
      },
      "file_extension": ".py",
      "mimetype": "text/x-python",
      "name": "python",
      "nbconvert_exporter": "python",
      "pygments_lexer": "ipython3",
      "version": "3.7.6"
    },
    "colab": {
      "name": "5. Python Loops.ipynb",
      "provenance": [],
      "include_colab_link": true
    }
  },
  "cells": [
    {
      "cell_type": "markdown",
      "metadata": {
        "id": "view-in-github",
        "colab_type": "text"
      },
      "source": [
        "<a href=\"https://colab.research.google.com/github/Edunet-Foundation/CTS/blob/main/Foundational-Course/5_Python_Loops.ipynb\" target=\"_parent\"><img src=\"https://colab.research.google.com/assets/colab-badge.svg\" alt=\"Open In Colab\"/></a>"
      ]
    },
    {
      "cell_type": "markdown",
      "metadata": {
        "id": "H63QcN9iFEJr"
      },
      "source": [
        "# Python Loops\n",
        "\n",
        "#### This activity includes discussion and hands-on for python loops- for loop, while loop and nested loops"
      ]
    },
    {
      "cell_type": "markdown",
      "metadata": {
        "id": "x0biOryrFEJs"
      },
      "source": [
        "#### For Loop"
      ]
    },
    {
      "cell_type": "code",
      "metadata": {
        "id": "gL5L1AFpFEJt"
      },
      "source": [
        "# python allows to iterate through statements number of times using loops\n",
        "# for loop is one such construct in python that runs/iterates for several times depending upon condition"
      ],
      "execution_count": null,
      "outputs": []
    },
    {
      "cell_type": "code",
      "metadata": {
        "id": "43boD07nFEJt",
        "outputId": "7e645e8b-4674-4981-ebc7-a32f24f4ff9a"
      },
      "source": [
        "iterations=10\n",
        "\n",
        "for i in range(iterations):\n",
        "    print('Welcome')\n",
        "    \n",
        "# iterations define number of times loop will run\n",
        "# i is iterator variable whose value iterates over sequnce generated from range function\n",
        "# range() is a function in python that generates enumerations of numbers"
      ],
      "execution_count": null,
      "outputs": [
        {
          "name": "stdout",
          "output_type": "stream",
          "text": [
            "Welcome\n",
            "Welcome\n",
            "Welcome\n",
            "Welcome\n",
            "Welcome\n",
            "Welcome\n",
            "Welcome\n",
            "Welcome\n",
            "Welcome\n",
            "Welcome\n"
          ]
        }
      ]
    },
    {
      "cell_type": "code",
      "metadata": {
        "id": "hYLLgMiGFEJu",
        "outputId": "ce867714-3f97-4667-fa2b-0e0b0a9d52e3"
      },
      "source": [
        "for i in range(10):\n",
        "    print(i)\n",
        "# range(n) enumerates 0 to n-1"
      ],
      "execution_count": null,
      "outputs": [
        {
          "name": "stdout",
          "output_type": "stream",
          "text": [
            "0\n",
            "1\n",
            "2\n",
            "3\n",
            "4\n",
            "5\n",
            "6\n",
            "7\n",
            "8\n",
            "9\n"
          ]
        }
      ]
    },
    {
      "cell_type": "code",
      "metadata": {
        "id": "KDLpmZNtFEJv",
        "outputId": "36c61f58-6c63-4291-b75d-7e7be2e56587"
      },
      "source": [
        "for i in range(10,20):\n",
        "    print(i)\n",
        "# range(n,m) enumerates n to m-1"
      ],
      "execution_count": null,
      "outputs": [
        {
          "name": "stdout",
          "output_type": "stream",
          "text": [
            "10\n",
            "11\n",
            "12\n",
            "13\n",
            "14\n",
            "15\n",
            "16\n",
            "17\n",
            "18\n",
            "19\n"
          ]
        }
      ]
    },
    {
      "cell_type": "code",
      "metadata": {
        "id": "Hn_zl4yOFEJv",
        "outputId": "7fc8d561-bb78-4cd2-8b3d-3835fb369b11"
      },
      "source": [
        "for i in range(10,20,2):\n",
        "    print(i)\n",
        "# range(n,m,k) enumerates n to m-1 with k jumps"
      ],
      "execution_count": null,
      "outputs": [
        {
          "name": "stdout",
          "output_type": "stream",
          "text": [
            "10\n",
            "12\n",
            "14\n",
            "16\n",
            "18\n"
          ]
        }
      ]
    },
    {
      "cell_type": "code",
      "metadata": {
        "id": "L4_0SA59FEJv",
        "outputId": "b95b1075-4b5b-40a3-dac5-ba1eadda08af"
      },
      "source": [
        "# calculations inside loop\n",
        "sum=0\n",
        "for i in range(50,101):\n",
        "    sum=sum+i\n",
        "print(sum)\n",
        "#value of sum after loop ietrations will be final value of sum of inetgers from 50 to 100"
      ],
      "execution_count": null,
      "outputs": [
        {
          "name": "stdout",
          "output_type": "stream",
          "text": [
            "3825\n"
          ]
        }
      ]
    },
    {
      "cell_type": "markdown",
      "metadata": {
        "id": "s0KsCbGsFEJv"
      },
      "source": [
        "#### While Loop"
      ]
    },
    {
      "cell_type": "markdown",
      "metadata": {
        "id": "IYI4gajZFEJv"
      },
      "source": [
        "#### Similar to for loop, while is another loop with different syntax"
      ]
    },
    {
      "cell_type": "code",
      "metadata": {
        "id": "BP3G9zlEFEJw",
        "outputId": "2c5ae7da-79d3-4a96-d6ea-24bb6b3956cd"
      },
      "source": [
        "i=0\n",
        "\n",
        "while i<10:\n",
        "    print(i)\n",
        "    i=i+1"
      ],
      "execution_count": null,
      "outputs": [
        {
          "name": "stdout",
          "output_type": "stream",
          "text": [
            "0\n",
            "1\n",
            "2\n",
            "3\n",
            "4\n",
            "5\n",
            "6\n",
            "7\n",
            "8\n",
            "9\n"
          ]
        }
      ]
    },
    {
      "cell_type": "code",
      "metadata": {
        "id": "s4L8rTQGFEJw"
      },
      "source": [
        "# thsi includes initial value of iterator, loop conditional statement and ietrator updation "
      ],
      "execution_count": null,
      "outputs": []
    },
    {
      "cell_type": "code",
      "metadata": {
        "id": "Tdwu3ptLFEJw",
        "outputId": "56783c42-9c0c-4ebe-e56c-d205bd1fa487"
      },
      "source": [
        "i=0\n",
        "while i<30:\n",
        "    print(i)\n",
        "    i=i+5"
      ],
      "execution_count": null,
      "outputs": [
        {
          "name": "stdout",
          "output_type": "stream",
          "text": [
            "0\n",
            "5\n",
            "10\n",
            "15\n",
            "20\n",
            "25\n"
          ]
        }
      ]
    },
    {
      "cell_type": "code",
      "metadata": {
        "id": "IkQx1-eXFEJw",
        "outputId": "88817c66-f33e-42f9-827b-2ab1f230335f"
      },
      "source": [
        "i=0\n",
        "while i<30:\n",
        "    i=i+5\n",
        "    print(i)\n",
        "# this will print different series, order of statements matters here"
      ],
      "execution_count": null,
      "outputs": [
        {
          "name": "stdout",
          "output_type": "stream",
          "text": [
            "5\n",
            "10\n",
            "15\n",
            "20\n",
            "25\n",
            "30\n"
          ]
        }
      ]
    },
    {
      "cell_type": "markdown",
      "metadata": {
        "id": "mFZigLGeFEJw"
      },
      "source": [
        "#### Nesting of Loops"
      ]
    },
    {
      "cell_type": "code",
      "metadata": {
        "collapsed": true,
        "id": "Lnpx-EZeFEJw",
        "outputId": "e0f9b313-41bd-4e5a-9d37-4391a4b69a6d"
      },
      "source": [
        "# lopps can be nested in ano another\n",
        "\n",
        "for i in range(10):\n",
        "    for j in range(20):\n",
        "        print(i,',',j)"
      ],
      "execution_count": null,
      "outputs": [
        {
          "name": "stdout",
          "output_type": "stream",
          "text": [
            "0 , 0\n",
            "0 , 1\n",
            "0 , 2\n",
            "0 , 3\n",
            "0 , 4\n",
            "0 , 5\n",
            "0 , 6\n",
            "0 , 7\n",
            "0 , 8\n",
            "0 , 9\n",
            "0 , 10\n",
            "0 , 11\n",
            "0 , 12\n",
            "0 , 13\n",
            "0 , 14\n",
            "0 , 15\n",
            "0 , 16\n",
            "0 , 17\n",
            "0 , 18\n",
            "0 , 19\n",
            "1 , 0\n",
            "1 , 1\n",
            "1 , 2\n",
            "1 , 3\n",
            "1 , 4\n",
            "1 , 5\n",
            "1 , 6\n",
            "1 , 7\n",
            "1 , 8\n",
            "1 , 9\n",
            "1 , 10\n",
            "1 , 11\n",
            "1 , 12\n",
            "1 , 13\n",
            "1 , 14\n",
            "1 , 15\n",
            "1 , 16\n",
            "1 , 17\n",
            "1 , 18\n",
            "1 , 19\n",
            "2 , 0\n",
            "2 , 1\n",
            "2 , 2\n",
            "2 , 3\n",
            "2 , 4\n",
            "2 , 5\n",
            "2 , 6\n",
            "2 , 7\n",
            "2 , 8\n",
            "2 , 9\n",
            "2 , 10\n",
            "2 , 11\n",
            "2 , 12\n",
            "2 , 13\n",
            "2 , 14\n",
            "2 , 15\n",
            "2 , 16\n",
            "2 , 17\n",
            "2 , 18\n",
            "2 , 19\n",
            "3 , 0\n",
            "3 , 1\n",
            "3 , 2\n",
            "3 , 3\n",
            "3 , 4\n",
            "3 , 5\n",
            "3 , 6\n",
            "3 , 7\n",
            "3 , 8\n",
            "3 , 9\n",
            "3 , 10\n",
            "3 , 11\n",
            "3 , 12\n",
            "3 , 13\n",
            "3 , 14\n",
            "3 , 15\n",
            "3 , 16\n",
            "3 , 17\n",
            "3 , 18\n",
            "3 , 19\n",
            "4 , 0\n",
            "4 , 1\n",
            "4 , 2\n",
            "4 , 3\n",
            "4 , 4\n",
            "4 , 5\n",
            "4 , 6\n",
            "4 , 7\n",
            "4 , 8\n",
            "4 , 9\n",
            "4 , 10\n",
            "4 , 11\n",
            "4 , 12\n",
            "4 , 13\n",
            "4 , 14\n",
            "4 , 15\n",
            "4 , 16\n",
            "4 , 17\n",
            "4 , 18\n",
            "4 , 19\n",
            "5 , 0\n",
            "5 , 1\n",
            "5 , 2\n",
            "5 , 3\n",
            "5 , 4\n",
            "5 , 5\n",
            "5 , 6\n",
            "5 , 7\n",
            "5 , 8\n",
            "5 , 9\n",
            "5 , 10\n",
            "5 , 11\n",
            "5 , 12\n",
            "5 , 13\n",
            "5 , 14\n",
            "5 , 15\n",
            "5 , 16\n",
            "5 , 17\n",
            "5 , 18\n",
            "5 , 19\n",
            "6 , 0\n",
            "6 , 1\n",
            "6 , 2\n",
            "6 , 3\n",
            "6 , 4\n",
            "6 , 5\n",
            "6 , 6\n",
            "6 , 7\n",
            "6 , 8\n",
            "6 , 9\n",
            "6 , 10\n",
            "6 , 11\n",
            "6 , 12\n",
            "6 , 13\n",
            "6 , 14\n",
            "6 , 15\n",
            "6 , 16\n",
            "6 , 17\n",
            "6 , 18\n",
            "6 , 19\n",
            "7 , 0\n",
            "7 , 1\n",
            "7 , 2\n",
            "7 , 3\n",
            "7 , 4\n",
            "7 , 5\n",
            "7 , 6\n",
            "7 , 7\n",
            "7 , 8\n",
            "7 , 9\n",
            "7 , 10\n",
            "7 , 11\n",
            "7 , 12\n",
            "7 , 13\n",
            "7 , 14\n",
            "7 , 15\n",
            "7 , 16\n",
            "7 , 17\n",
            "7 , 18\n",
            "7 , 19\n",
            "8 , 0\n",
            "8 , 1\n",
            "8 , 2\n",
            "8 , 3\n",
            "8 , 4\n",
            "8 , 5\n",
            "8 , 6\n",
            "8 , 7\n",
            "8 , 8\n",
            "8 , 9\n",
            "8 , 10\n",
            "8 , 11\n",
            "8 , 12\n",
            "8 , 13\n",
            "8 , 14\n",
            "8 , 15\n",
            "8 , 16\n",
            "8 , 17\n",
            "8 , 18\n",
            "8 , 19\n",
            "9 , 0\n",
            "9 , 1\n",
            "9 , 2\n",
            "9 , 3\n",
            "9 , 4\n",
            "9 , 5\n",
            "9 , 6\n",
            "9 , 7\n",
            "9 , 8\n",
            "9 , 9\n",
            "9 , 10\n",
            "9 , 11\n",
            "9 , 12\n",
            "9 , 13\n",
            "9 , 14\n",
            "9 , 15\n",
            "9 , 16\n",
            "9 , 17\n",
            "9 , 18\n",
            "9 , 19\n"
          ]
        }
      ]
    },
    {
      "cell_type": "code",
      "metadata": {
        "id": "gWcwFF1uFEJx",
        "outputId": "4ff3480f-8ca6-4a59-c22f-dc120ed7c911"
      },
      "source": [
        "i=1\n",
        "while i<5:\n",
        "    j=1\n",
        "    while j<5:\n",
        "        print(i*j, end=' ')\n",
        "        j=j+1\n",
        "    print('\\n')\n",
        "    i=i+1"
      ],
      "execution_count": null,
      "outputs": [
        {
          "name": "stdout",
          "output_type": "stream",
          "text": [
            "1 2 3 4 \n",
            "\n",
            "2 4 6 8 \n",
            "\n",
            "3 6 9 12 \n",
            "\n",
            "4 8 12 16 \n",
            "\n"
          ]
        }
      ]
    },
    {
      "cell_type": "markdown",
      "metadata": {
        "id": "DCslcfzXFEJx"
      },
      "source": [
        "#### Exercise: Print pyramid of numbers using for loop and while loop"
      ]
    },
    {
      "cell_type": "code",
      "metadata": {
        "id": "M5IZv2CgFEJx"
      },
      "source": [
        "#Example:\n",
        "\n",
        "#     1    \n",
        "#   2 3 4 \n",
        "# 5 6 7 8 9"
      ],
      "execution_count": null,
      "outputs": []
    },
    {
      "cell_type": "code",
      "metadata": {
        "id": "njMMrgfkFEJx"
      },
      "source": [
        ""
      ],
      "execution_count": null,
      "outputs": []
    },
    {
      "cell_type": "code",
      "metadata": {
        "id": "hWiUYuwtFEJy"
      },
      "source": [
        ""
      ],
      "execution_count": null,
      "outputs": []
    },
    {
      "cell_type": "markdown",
      "metadata": {
        "id": "GpR3Dp0wFEJy"
      },
      "source": [
        "#### Continue and Break"
      ]
    },
    {
      "cell_type": "code",
      "metadata": {
        "id": "UO7vREGXFEJy",
        "outputId": "5b369d16-34d8-46e0-9649-107e32623b79"
      },
      "source": [
        "# allow loop run at any instance, skipping the following statements inside loop, use continue\n",
        "\n",
        "i=0\n",
        "\n",
        "while i<5:\n",
        "    i=i+1\n",
        "    print(i)\n",
        "    "
      ],
      "execution_count": null,
      "outputs": [
        {
          "name": "stdout",
          "output_type": "stream",
          "text": [
            "1\n",
            "2\n",
            "3\n",
            "4\n",
            "5\n"
          ]
        }
      ]
    },
    {
      "cell_type": "code",
      "metadata": {
        "id": "GAde9GqLFEJy",
        "outputId": "da38835d-1082-474a-ec93-6b616220f411"
      },
      "source": [
        "i=0\n",
        "\n",
        "while i<5:\n",
        "    i=i+1\n",
        "    if(i==3):\n",
        "        continue\n",
        "    print(i)\n",
        "    \n"
      ],
      "execution_count": null,
      "outputs": [
        {
          "name": "stdout",
          "output_type": "stream",
          "text": [
            "1\n",
            "2\n",
            "4\n",
            "5\n"
          ]
        }
      ]
    },
    {
      "cell_type": "markdown",
      "metadata": {
        "id": "3TuzoDurFEJz"
      },
      "source": [
        "#### Break"
      ]
    },
    {
      "cell_type": "code",
      "metadata": {
        "id": "KLJV6S55FEJz"
      },
      "source": [
        "# break statement is used to stop the loop at some specific condition and allow pre-mature termination"
      ],
      "execution_count": null,
      "outputs": []
    },
    {
      "cell_type": "code",
      "metadata": {
        "id": "mIOIEvTVFEJ0",
        "outputId": "82e99070-4ca1-41d0-c8bd-1d7d75db51ef"
      },
      "source": [
        "for i in range(10):\n",
        "    print(i)"
      ],
      "execution_count": null,
      "outputs": [
        {
          "name": "stdout",
          "output_type": "stream",
          "text": [
            "0\n",
            "1\n",
            "2\n",
            "3\n",
            "4\n",
            "5\n",
            "6\n",
            "7\n",
            "8\n",
            "9\n"
          ]
        }
      ]
    },
    {
      "cell_type": "code",
      "metadata": {
        "id": "4PoRCQRSFEJ0",
        "outputId": "54d4aee9-c6a4-495f-857b-6c92359c4a65"
      },
      "source": [
        "for i in range(10):\n",
        "    if i>7:\n",
        "        break\n",
        "    print(i)"
      ],
      "execution_count": null,
      "outputs": [
        {
          "name": "stdout",
          "output_type": "stream",
          "text": [
            "0\n",
            "1\n",
            "2\n",
            "3\n",
            "4\n",
            "5\n",
            "6\n",
            "7\n"
          ]
        }
      ]
    },
    {
      "cell_type": "code",
      "metadata": {
        "id": "FGhqnmOtFEJ1"
      },
      "source": [
        ""
      ],
      "execution_count": null,
      "outputs": []
    }
  ]
}