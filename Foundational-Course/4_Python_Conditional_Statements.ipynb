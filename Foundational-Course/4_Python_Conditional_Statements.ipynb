{
  "nbformat": 4,
  "nbformat_minor": 0,
  "metadata": {
    "kernelspec": {
      "display_name": "Python 3",
      "language": "python",
      "name": "python3"
    },
    "language_info": {
      "codemirror_mode": {
        "name": "ipython",
        "version": 3
      },
      "file_extension": ".py",
      "mimetype": "text/x-python",
      "name": "python",
      "nbconvert_exporter": "python",
      "pygments_lexer": "ipython3",
      "version": "3.7.6"
    },
    "colab": {
      "name": "4. Python Conditional Statements.ipynb",
      "provenance": [],
      "include_colab_link": true
    }
  },
  "cells": [
    {
      "cell_type": "markdown",
      "metadata": {
        "id": "view-in-github",
        "colab_type": "text"
      },
      "source": [
        "<a href=\"https://colab.research.google.com/github/Edunet-Foundation/CTS/blob/main/Foundational-Course/4_Python_Conditional_Statements.ipynb\" target=\"_parent\"><img src=\"https://colab.research.google.com/assets/colab-badge.svg\" alt=\"Open In Colab\"/></a>"
      ]
    },
    {
      "cell_type": "markdown",
      "metadata": {
        "id": "8WRbWXY2FDJs"
      },
      "source": [
        "# Python Conditional Statements\n",
        "\n",
        "#### Python allows conditional flow of execution using if, if-else and elif ladder of statements"
      ]
    },
    {
      "cell_type": "markdown",
      "metadata": {
        "id": "V86Zss1kFDJw"
      },
      "source": [
        "#### For Example, you need to decide between certain condition like whether to go outside or not depending upon whether it is raining or not? If it rains, you need to stay in, else can move outside for your work"
      ]
    },
    {
      "cell_type": "code",
      "metadata": {
        "id": "cmA8T6uOFDJy",
        "outputId": "c39fef7e-637c-464b-9cb8-4d38489f9ac4"
      },
      "source": [
        "weather='Rainy'\n",
        "\n",
        "if weather == 'Rainy':\n",
        "    print('Do not go outside!')\n",
        "print('decision made')\n",
        "\n",
        "# note colon symbol at end of IF header, also indentation to statements inside IF"
      ],
      "execution_count": null,
      "outputs": [
        {
          "name": "stdout",
          "output_type": "stream",
          "text": [
            "Do not go outside!\n",
            "decision made\n"
          ]
        }
      ]
    },
    {
      "cell_type": "code",
      "metadata": {
        "id": "kPMaeH62FDJ1",
        "outputId": "ac7a4f49-8c5f-4854-f864-4f0c0309d7af"
      },
      "source": [
        "# You can use any condition check operator for IF statements, syntax says to use condition that shoud have boolean results\n",
        "\n",
        "marks=97\n",
        "\n",
        "if marks>90:\n",
        "    print('Excellent')\n",
        "if marks>70:\n",
        "    print('Good')\n",
        "if marks<70 and marks>60:\n",
        "    print('Satisfactory')\n",
        "if marks<60 and marks>50:\n",
        "    print('Average')\n",
        "    \n",
        "# Try changing value for marks variable and see the difference, especially at 90+ score"
      ],
      "execution_count": null,
      "outputs": [
        {
          "name": "stdout",
          "output_type": "stream",
          "text": [
            "Excellent\n",
            "Good\n"
          ]
        }
      ]
    },
    {
      "cell_type": "markdown",
      "metadata": {
        "id": "p0pZxc3YFDJ2"
      },
      "source": [
        "#### Python allows to add Else statement for default conditions"
      ]
    },
    {
      "cell_type": "code",
      "metadata": {
        "id": "Vpwz-6kVFDJ3",
        "outputId": "8ff68914-ea7d-4aaf-bd05-39ace83e5935"
      },
      "source": [
        "# Else statement is written at the end when we do not have anymore specific condition to follow\n",
        "\n",
        "marks=47\n",
        "\n",
        "if marks>90:\n",
        "    print('Excellent')\n",
        "if marks>70:\n",
        "    print('Good')\n",
        "if marks<70 and marks>60:\n",
        "    print('Satisfactory')\n",
        "if marks<60 and marks>50:\n",
        "    print('Average')\n",
        "else:\n",
        "    print('Fail')"
      ],
      "execution_count": null,
      "outputs": [
        {
          "name": "stdout",
          "output_type": "stream",
          "text": [
            "Fail\n"
          ]
        }
      ]
    },
    {
      "cell_type": "markdown",
      "metadata": {
        "id": "ruX4C41nFDJ3"
      },
      "source": [
        "#### if-else examples"
      ]
    },
    {
      "cell_type": "code",
      "metadata": {
        "id": "7E5nIWHxFDJ4",
        "outputId": "db228ece-5596-45f4-ce6e-64a693a8f96f"
      },
      "source": [
        "# simple example to display message on age value\n",
        "age=32\n",
        "if age>60:\n",
        "    print('Senior Citizen')\n",
        "else:\n",
        "    print('Youth')"
      ],
      "execution_count": null,
      "outputs": [
        {
          "name": "stdout",
          "output_type": "stream",
          "text": [
            "Youth\n"
          ]
        }
      ]
    },
    {
      "cell_type": "code",
      "metadata": {
        "id": "VP52IsS8FDJ4",
        "outputId": "fe7ff04f-c63a-418d-849d-254378ec51d3"
      },
      "source": [
        "#exmaple to calculate bonus based on type of employee\n",
        "emp_type='Permanent'\n",
        "bonus=0\n",
        "if emp_type=='Temporary':\n",
        "    bonus=1000\n",
        "else:\n",
        "    bonus=5000\n",
        "    \n",
        "print('Your Bonus is: ', bonus)"
      ],
      "execution_count": null,
      "outputs": [
        {
          "name": "stdout",
          "output_type": "stream",
          "text": [
            "Your Bonus is:  5000\n"
          ]
        }
      ]
    },
    {
      "cell_type": "code",
      "metadata": {
        "id": "yLZ5KJMAFDJ5",
        "outputId": "950d041a-55cd-47f8-fb82-a2c4c745c67c"
      },
      "source": [
        "emp_type='Temporary'\n",
        "bonus=0\n",
        "if emp_type=='Temporary':\n",
        "    bonus=1000\n",
        "else:\n",
        "    bonus=5000\n",
        "    \n",
        "print('Your Bonus is: ', bonus)"
      ],
      "execution_count": null,
      "outputs": [
        {
          "name": "stdout",
          "output_type": "stream",
          "text": [
            "Your Bonus is:  1000\n"
          ]
        }
      ]
    },
    {
      "cell_type": "markdown",
      "metadata": {
        "id": "8By9ASLJFDJ5"
      },
      "source": [
        "#### Python also allows nesting of if or if-else statements"
      ]
    },
    {
      "cell_type": "code",
      "metadata": {
        "id": "Oxd0BTW2FDJ6"
      },
      "source": [
        "a=10\n",
        "b=20\n",
        "c=30\n",
        "\n",
        "# find which number out of a,b & c is greater"
      ],
      "execution_count": null,
      "outputs": []
    },
    {
      "cell_type": "code",
      "metadata": {
        "id": "Sm0vfiOuFDJ6",
        "outputId": "0e9a652c-da14-4f53-b782-af00ade20dcc"
      },
      "source": [
        "if a<b:\n",
        "    if b<c:\n",
        "        print('C is Greater')\n",
        "    else:\n",
        "        print('B is Greater')\n",
        "else:\n",
        "    if a>c:\n",
        "        print('A is Greater')\n",
        "    else:\n",
        "        print('C is Greater')"
      ],
      "execution_count": null,
      "outputs": [
        {
          "name": "stdout",
          "output_type": "stream",
          "text": [
            "C is Greater\n"
          ]
        }
      ]
    },
    {
      "cell_type": "markdown",
      "metadata": {
        "id": "R6IFWmEGFDJ7"
      },
      "source": [
        "#### Elif ladder"
      ]
    },
    {
      "cell_type": "code",
      "metadata": {
        "id": "XkDyWL7vFDJ7"
      },
      "source": [
        "# we can use elif statement along with if-else for multiple checks, else will follow in end"
      ],
      "execution_count": null,
      "outputs": []
    },
    {
      "cell_type": "code",
      "metadata": {
        "id": "tx5PZoHnFDJ7"
      },
      "source": [
        "marks=57"
      ],
      "execution_count": null,
      "outputs": []
    },
    {
      "cell_type": "code",
      "metadata": {
        "id": "9Ebie2kmFDJ8",
        "outputId": "81019c18-e57e-4314-bd50-37431a03fc9e"
      },
      "source": [
        "if marks>=90 and marks<100:\n",
        "    print('Excellent')\n",
        "elif marks<90 and marks>=60:\n",
        "    print('Good')\n",
        "elif marks<60 and marks>=40:\n",
        "    print('Average')\n",
        "elif marks<40 and marks>=0:\n",
        "    print('Fail')\n",
        "else:\n",
        "    print('Incorrect Value for marks')"
      ],
      "execution_count": null,
      "outputs": [
        {
          "name": "stdout",
          "output_type": "stream",
          "text": [
            "Average\n"
          ]
        }
      ]
    },
    {
      "cell_type": "code",
      "metadata": {
        "id": "qsbWQUQ2FDJ8"
      },
      "source": [
        "# try for marks value as 93, 72, 39, 121"
      ],
      "execution_count": null,
      "outputs": []
    },
    {
      "cell_type": "markdown",
      "metadata": {
        "id": "PSns4F2cFDJ8"
      },
      "source": [
        "#### Exercise: "
      ]
    },
    {
      "cell_type": "code",
      "metadata": {
        "id": "UQnOLODWFDJ9"
      },
      "source": [
        "# write a program to find out interest on fund value after 3 years when principal amount was 20000 with ineterst rate of 5%\n",
        "# for male member, and 5.5% for females. Also, senior citizen will be allowed 6% ineterst for same amount"
      ],
      "execution_count": null,
      "outputs": []
    },
    {
      "cell_type": "code",
      "metadata": {
        "id": "fvau-WAuFDJ9"
      },
      "source": [
        "# male=5%\n",
        "#female=5.5%\n",
        "#senior citizen=6%\n",
        "#amount=20,000\n",
        "#time=3 years\n",
        "\n",
        "#formula for interest calculation= (amount*interest*years)/100"
      ],
      "execution_count": null,
      "outputs": []
    },
    {
      "cell_type": "code",
      "metadata": {
        "id": "8-Wb59dsFDJ9"
      },
      "source": [
        "# variables= [age, gender]"
      ],
      "execution_count": null,
      "outputs": []
    },
    {
      "cell_type": "code",
      "metadata": {
        "id": "1igvC_24FDJ-"
      },
      "source": [
        ""
      ],
      "execution_count": null,
      "outputs": []
    },
    {
      "cell_type": "code",
      "metadata": {
        "id": "XNHuvxaKFDJ-"
      },
      "source": [
        ""
      ],
      "execution_count": null,
      "outputs": []
    },
    {
      "cell_type": "code",
      "metadata": {
        "id": "RZrAqperFDJ-"
      },
      "source": [
        ""
      ],
      "execution_count": null,
      "outputs": []
    },
    {
      "cell_type": "code",
      "metadata": {
        "id": "m2skpNKDFDJ-"
      },
      "source": [
        ""
      ],
      "execution_count": null,
      "outputs": []
    },
    {
      "cell_type": "code",
      "metadata": {
        "id": "Zt5BKnrkFDJ-"
      },
      "source": [
        ""
      ],
      "execution_count": null,
      "outputs": []
    },
    {
      "cell_type": "code",
      "metadata": {
        "id": "aQNLAma2FDJ_"
      },
      "source": [
        ""
      ],
      "execution_count": null,
      "outputs": []
    },
    {
      "cell_type": "code",
      "metadata": {
        "id": "v2lWKuSNFDJ_"
      },
      "source": [
        ""
      ],
      "execution_count": null,
      "outputs": []
    },
    {
      "cell_type": "code",
      "metadata": {
        "id": "3pwZdNQCFDJ_"
      },
      "source": [
        ""
      ],
      "execution_count": null,
      "outputs": []
    },
    {
      "cell_type": "code",
      "metadata": {
        "id": "rcSsixHYFDJ_"
      },
      "source": [
        ""
      ],
      "execution_count": null,
      "outputs": []
    }
  ]
}