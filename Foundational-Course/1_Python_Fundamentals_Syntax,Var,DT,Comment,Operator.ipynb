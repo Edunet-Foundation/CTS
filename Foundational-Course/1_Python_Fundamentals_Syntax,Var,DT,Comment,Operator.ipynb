{
  "nbformat": 4,
  "nbformat_minor": 0,
  "metadata": {
    "kernelspec": {
      "display_name": "Python 3",
      "language": "python",
      "name": "python3"
    },
    "language_info": {
      "codemirror_mode": {
        "name": "ipython",
        "version": 3
      },
      "file_extension": ".py",
      "mimetype": "text/x-python",
      "name": "python",
      "nbconvert_exporter": "python",
      "pygments_lexer": "ipython3",
      "version": "3.7.6"
    },
    "colab": {
      "name": "1. Python Fundamentals- Syntax,Var,DT,Comment,Operator.ipynb",
      "provenance": [],
      "include_colab_link": true
    }
  },
  "cells": [
    {
      "cell_type": "markdown",
      "metadata": {
        "id": "view-in-github",
        "colab_type": "text"
      },
      "source": [
        "<a href=\"https://colab.research.google.com/github/Edunet-Foundation/CTS/blob/main/Foundational-Course/1_Python_Fundamentals_Syntax%2CVar%2CDT%2CComment%2COperator.ipynb\" target=\"_parent\"><img src=\"https://colab.research.google.com/assets/colab-badge.svg\" alt=\"Open In Colab\"/></a>"
      ]
    },
    {
      "cell_type": "markdown",
      "metadata": {
        "id": "0N7R6YEiE_ya"
      },
      "source": [
        "# Python Fundamentals\n",
        "\n",
        "### Syntax, Variables, Comments, Data Types, Operators"
      ]
    },
    {
      "cell_type": "markdown",
      "metadata": {
        "id": "EUdmYMvOE_yh"
      },
      "source": [
        "##### Lets us begin with simple steps to understand basic python syntax and semantics"
      ]
    },
    {
      "cell_type": "markdown",
      "metadata": {
        "id": "0fQ-R6MEE_yi"
      },
      "source": [
        "### Python Syntax\n",
        "\n",
        "##### If you write any number on python console, it wil return the same number or string back"
      ]
    },
    {
      "cell_type": "code",
      "metadata": {
        "id": "dgEFbIp3E_yk",
        "outputId": "a3e29b7d-5ebf-4c3a-e6b6-627687cb05c1"
      },
      "source": [
        "4"
      ],
      "execution_count": null,
      "outputs": [
        {
          "data": {
            "text/plain": [
              "4"
            ]
          },
          "execution_count": 1,
          "metadata": {},
          "output_type": "execute_result"
        }
      ]
    },
    {
      "cell_type": "markdown",
      "metadata": {
        "id": "tDcEssKIE_yn"
      },
      "source": [
        "##### You can define char or string literals in single or double quotes like- 's' or \"s\" or \"hello\""
      ]
    },
    {
      "cell_type": "code",
      "metadata": {
        "id": "IcqZS6NiE_yo",
        "outputId": "b3501ae8-4683-4664-e28a-786e39880da3"
      },
      "source": [
        "'hello'"
      ],
      "execution_count": null,
      "outputs": [
        {
          "data": {
            "text/plain": [
              "'hello'"
            ]
          },
          "execution_count": 5,
          "metadata": {},
          "output_type": "execute_result"
        }
      ]
    },
    {
      "cell_type": "markdown",
      "metadata": {
        "id": "56HL9gB2E_yq"
      },
      "source": [
        "##### Python print() function can be utilised to rpint back the output"
      ]
    },
    {
      "cell_type": "code",
      "metadata": {
        "id": "S0oVGf98E_yr",
        "outputId": "50921ba3-10da-4a81-d2d0-68fc9f723aa5"
      },
      "source": [
        "print('Hello')"
      ],
      "execution_count": null,
      "outputs": [
        {
          "name": "stdout",
          "output_type": "stream",
          "text": [
            "Hello\n"
          ]
        }
      ]
    },
    {
      "cell_type": "markdown",
      "metadata": {
        "id": "e4ZjZz_8E_yt"
      },
      "source": [
        "#### print() function has 2 main attributes viz. sep, end, file\n",
        "\n",
        "##### sep- can be used to define separator between multiple values, default is a blank space\n",
        "##### end- can be used to define ending character for the outputs, default is new line character '\\n'"
      ]
    },
    {
      "cell_type": "code",
      "metadata": {
        "id": "gSi4jwGzE_yu",
        "outputId": "482e47d1-38ec-42c7-c9e1-2ad20cb9bf9a"
      },
      "source": [
        "print('hi', 'hello', sep='#')"
      ],
      "execution_count": null,
      "outputs": [
        {
          "name": "stdout",
          "output_type": "stream",
          "text": [
            "hi#hello\n"
          ]
        }
      ]
    },
    {
      "cell_type": "code",
      "metadata": {
        "id": "XZUwvgnXE_yw",
        "outputId": "29b88eb4-f5bd-4a35-bf64-4ac36895707c"
      },
      "source": [
        "print('hi','hello', end='~')"
      ],
      "execution_count": null,
      "outputs": [
        {
          "name": "stdout",
          "output_type": "stream",
          "text": [
            "hi hello~"
          ]
        }
      ]
    },
    {
      "cell_type": "code",
      "metadata": {
        "id": "UppqO_83E_yw",
        "outputId": "acc2ac7f-5e32-47c6-a8cb-a9583271830f"
      },
      "source": [
        "print('pizza','party',sep='@', end='!')"
      ],
      "execution_count": null,
      "outputs": [
        {
          "name": "stdout",
          "output_type": "stream",
          "text": [
            "pizza@party!"
          ]
        }
      ]
    },
    {
      "cell_type": "markdown",
      "metadata": {
        "id": "NQtWR1CWE_yx"
      },
      "source": [
        "### Python Comments\n",
        "\n",
        "##### In Pyhton comments can be created using '#' symbol"
      ]
    },
    {
      "cell_type": "code",
      "metadata": {
        "id": "8yJIIEtSE_yy",
        "outputId": "a1c1920c-e206-4ea8-cc17-63238f76227c"
      },
      "source": [
        "# This will not print back as output\n",
        "# Even this is a comment\n",
        "print('Only this will be printed') # print('Comment Too!!!')"
      ],
      "execution_count": null,
      "outputs": [
        {
          "name": "stdout",
          "output_type": "stream",
          "text": [
            "Only this will be printed\n"
          ]
        }
      ]
    },
    {
      "cell_type": "markdown",
      "metadata": {
        "id": "wpEAPgfOE_yz"
      },
      "source": [
        "### Python Variables\n",
        "\n",
        "##### Varibales in python can be directly defined without prior declaration and without explicit declaration of data type for variable"
      ]
    },
    {
      "cell_type": "code",
      "metadata": {
        "id": "YA_4V4beE_yz",
        "outputId": "e7c20435-688a-4867-c43d-db0b5cbe4ff0"
      },
      "source": [
        "x=10\n",
        "y=20\n",
        "\n",
        "print(x,y)"
      ],
      "execution_count": null,
      "outputs": [
        {
          "name": "stdout",
          "output_type": "stream",
          "text": [
            "10 20\n"
          ]
        }
      ]
    },
    {
      "cell_type": "code",
      "metadata": {
        "id": "lZVyWRcfE_y0",
        "outputId": "ec2b89e5-c747-48b6-e658-f63893e262ba"
      },
      "source": [
        "print(x,y,sep='--',end='@')"
      ],
      "execution_count": null,
      "outputs": [
        {
          "name": "stdout",
          "output_type": "stream",
          "text": [
            "10--20@"
          ]
        }
      ]
    },
    {
      "cell_type": "markdown",
      "metadata": {
        "id": "Aa2EZVYEE_y1"
      },
      "source": [
        "##### Python variable names can be defined correctly with ecrtain rules as follow:\n",
        "\n",
        "##### 1. Use Simple names 2. Can use underscore 3. Can not start with numbers or symbols 4. Case sensitive"
      ]
    },
    {
      "cell_type": "code",
      "metadata": {
        "id": "3n0iv1uzE_y1",
        "outputId": "f0983432-abeb-4218-8848-cf0e26cc6266"
      },
      "source": [
        "name='john'\n",
        "name2='Johny'\n",
        "print(name, name2)"
      ],
      "execution_count": null,
      "outputs": [
        {
          "name": "stdout",
          "output_type": "stream",
          "text": [
            "john Johny\n"
          ]
        }
      ]
    },
    {
      "cell_type": "code",
      "metadata": {
        "id": "ArkDPG3PE_y2",
        "outputId": "e3b98ff9-075b-4a2c-ad7a-465a4c23531a"
      },
      "source": [
        "Name='Alice' #different from name due to case-sensitivity\n",
        "print(Name)"
      ],
      "execution_count": null,
      "outputs": [
        {
          "name": "stdout",
          "output_type": "stream",
          "text": [
            "Alice\n"
          ]
        }
      ]
    },
    {
      "cell_type": "code",
      "metadata": {
        "id": "IKYRF_zyE_y3",
        "outputId": "8df3d6aa-91c2-469e-cf02-ea361f133697"
      },
      "source": [
        "temperature_morning=26\n",
        "temperature_evening=19\n",
        "\n",
        "print(\"Temperature Morning: \", temperature_morning)\n",
        "print(\"Temperature Evening: \", temperature_evening)"
      ],
      "execution_count": null,
      "outputs": [
        {
          "name": "stdout",
          "output_type": "stream",
          "text": [
            "Temperature Morning:  26\n",
            "Temperature Evening:  19\n"
          ]
        }
      ]
    },
    {
      "cell_type": "markdown",
      "metadata": {
        "id": "xZnAMIUwE_y4"
      },
      "source": [
        "##### In python, variables having same value refer to same memory location\n",
        "##### We can check memory location of variable using id() function"
      ]
    },
    {
      "cell_type": "code",
      "metadata": {
        "id": "di4cvutOE_y4",
        "outputId": "f2077fc7-bc87-4c5a-a125-64ee785d0e2f"
      },
      "source": [
        "x=20\n",
        "y=30\n",
        "print('id of x=', id(x))\n",
        "print('id of y=', id(y))"
      ],
      "execution_count": null,
      "outputs": [
        {
          "name": "stdout",
          "output_type": "stream",
          "text": [
            "id of x= 140709301494768\n",
            "id of y= 140709301495088\n"
          ]
        }
      ]
    },
    {
      "cell_type": "markdown",
      "metadata": {
        "id": "2iiXWTiVE_y5"
      },
      "source": [
        "##### Same Value, Same Memory Pointed by both x & y"
      ]
    },
    {
      "cell_type": "code",
      "metadata": {
        "id": "5NKrFwb_E_y5",
        "outputId": "071deb27-4eaf-4810-c7a9-c99e0d401e8b"
      },
      "source": [
        "x=25\n",
        "y=25\n",
        "print('id of x=', id(x))\n",
        "print('id of y=', id(y))"
      ],
      "execution_count": null,
      "outputs": [
        {
          "name": "stdout",
          "output_type": "stream",
          "text": [
            "id of x= 140709301494928\n",
            "id of y= 140709301494928\n"
          ]
        }
      ]
    },
    {
      "cell_type": "markdown",
      "metadata": {
        "id": "QS4jtFAXE_y6"
      },
      "source": [
        "##### Data type of a variable can be checked using type() function"
      ]
    },
    {
      "cell_type": "code",
      "metadata": {
        "id": "FOdKgTzuE_y6",
        "outputId": "7688310a-4f9e-44a7-835a-9037d45cce5a"
      },
      "source": [
        "x=30\n",
        "print(type(x))"
      ],
      "execution_count": null,
      "outputs": [
        {
          "name": "stdout",
          "output_type": "stream",
          "text": [
            "<class 'int'>\n"
          ]
        }
      ]
    },
    {
      "cell_type": "code",
      "metadata": {
        "id": "gXSbJyyhE_y6",
        "outputId": "8130f7c4-ef9a-41cd-f33d-2d606b9d8a0d"
      },
      "source": [
        "x='hello'\n",
        "print(type(x))"
      ],
      "execution_count": null,
      "outputs": [
        {
          "name": "stdout",
          "output_type": "stream",
          "text": [
            "<class 'str'>\n"
          ]
        }
      ]
    },
    {
      "cell_type": "code",
      "metadata": {
        "id": "DrH_QO_4E_y7",
        "outputId": "594ea36d-d60c-472a-fb68-b00fd7d8ad16"
      },
      "source": [
        "x=3.14\n",
        "print(type(x))"
      ],
      "execution_count": null,
      "outputs": [
        {
          "name": "stdout",
          "output_type": "stream",
          "text": [
            "<class 'float'>\n"
          ]
        }
      ]
    },
    {
      "cell_type": "code",
      "metadata": {
        "id": "MyLk6qSWE_y7",
        "outputId": "6e9fb41d-e160-4880-cb07-4d292c2686ce"
      },
      "source": [
        "x=b'101010'\n",
        "print(type(x))"
      ],
      "execution_count": null,
      "outputs": [
        {
          "name": "stdout",
          "output_type": "stream",
          "text": [
            "<class 'bytes'>\n"
          ]
        }
      ]
    },
    {
      "cell_type": "markdown",
      "metadata": {
        "id": "vLKybnKfE_y8"
      },
      "source": [
        "##### For integer variables, we can convert it to equivalent ASCII character using chr() function"
      ]
    },
    {
      "cell_type": "code",
      "metadata": {
        "id": "0tpP041yE_y8",
        "outputId": "f197ee11-7685-4f30-9837-98128113fa97"
      },
      "source": [
        "print(chr(69))"
      ],
      "execution_count": null,
      "outputs": [
        {
          "name": "stdout",
          "output_type": "stream",
          "text": [
            "E\n"
          ]
        }
      ]
    },
    {
      "cell_type": "code",
      "metadata": {
        "id": "r8SHoL_9E_y8",
        "outputId": "3bc7600e-d2ef-4c97-99e7-0b3cfe8a3a46"
      },
      "source": [
        "print(chr(99))"
      ],
      "execution_count": null,
      "outputs": [
        {
          "name": "stdout",
          "output_type": "stream",
          "text": [
            "c\n"
          ]
        }
      ]
    },
    {
      "cell_type": "markdown",
      "metadata": {
        "id": "CRKWZLrWE_y9"
      },
      "source": [
        "##### For ASCII characters, we can convert it to equivalent inetger using ord() function"
      ]
    },
    {
      "cell_type": "code",
      "metadata": {
        "id": "DwspqlWhE_y9",
        "outputId": "31db8d9e-cf53-489c-80ca-5f75b03849d4"
      },
      "source": [
        "print(ord('A'))"
      ],
      "execution_count": null,
      "outputs": [
        {
          "name": "stdout",
          "output_type": "stream",
          "text": [
            "65\n"
          ]
        }
      ]
    },
    {
      "cell_type": "code",
      "metadata": {
        "id": "RIom3057E_y9",
        "outputId": "99c30905-c99e-4ef1-c5d3-bba138f72e06"
      },
      "source": [
        "print(ord('m'))"
      ],
      "execution_count": null,
      "outputs": [
        {
          "name": "stdout",
          "output_type": "stream",
          "text": [
            "109\n"
          ]
        }
      ]
    },
    {
      "cell_type": "markdown",
      "metadata": {
        "id": "qjYMpVbhE_y-"
      },
      "source": [
        "##### Type conversions can be done using str(), int(), float()"
      ]
    },
    {
      "cell_type": "code",
      "metadata": {
        "id": "pZCxeXwKE_y_",
        "outputId": "70878d3d-b69e-4a06-cd9d-3370e7880a83"
      },
      "source": [
        "x=10\n",
        "str(x) #cnovert to string "
      ],
      "execution_count": null,
      "outputs": [
        {
          "data": {
            "text/plain": [
              "'10'"
            ]
          },
          "execution_count": 44,
          "metadata": {},
          "output_type": "execute_result"
        }
      ]
    },
    {
      "cell_type": "code",
      "metadata": {
        "collapsed": true,
        "id": "1BwExDFvE_y_",
        "outputId": "423d50f4-ae5d-456d-a338-d547d29e067c"
      },
      "source": [
        "x='hello'\n",
        "int(x) #Error"
      ],
      "execution_count": null,
      "outputs": [
        {
          "ename": "ValueError",
          "evalue": "invalid literal for int() with base 10: 'hello'",
          "output_type": "error",
          "traceback": [
            "\u001b[1;31m---------------------------------------------------------------------------\u001b[0m",
            "\u001b[1;31mValueError\u001b[0m                                Traceback (most recent call last)",
            "\u001b[1;32m<ipython-input-41-c4b6a8867da6>\u001b[0m in \u001b[0;36m<module>\u001b[1;34m\u001b[0m\n\u001b[0;32m      1\u001b[0m \u001b[0mx\u001b[0m\u001b[1;33m=\u001b[0m\u001b[1;34m'hello'\u001b[0m\u001b[1;33m\u001b[0m\u001b[1;33m\u001b[0m\u001b[0m\n\u001b[1;32m----> 2\u001b[1;33m \u001b[0mint\u001b[0m\u001b[1;33m(\u001b[0m\u001b[0mx\u001b[0m\u001b[1;33m)\u001b[0m \u001b[1;31m#Error\u001b[0m\u001b[1;33m\u001b[0m\u001b[1;33m\u001b[0m\u001b[0m\n\u001b[0m",
            "\u001b[1;31mValueError\u001b[0m: invalid literal for int() with base 10: 'hello'"
          ]
        }
      ]
    },
    {
      "cell_type": "code",
      "metadata": {
        "id": "--yHJJ4bE_zA",
        "outputId": "4ef5e40b-3034-4078-fbe2-42bad4ae6d1b"
      },
      "source": [
        "x=27\n",
        "float(x) #convert to float from int"
      ],
      "execution_count": null,
      "outputs": [
        {
          "data": {
            "text/plain": [
              "27.0"
            ]
          },
          "execution_count": 45,
          "metadata": {},
          "output_type": "execute_result"
        }
      ]
    },
    {
      "cell_type": "code",
      "metadata": {
        "id": "ZF1r3gC5E_zA",
        "outputId": "75acc9cd-ba6f-44e0-d913-571aed3a45c8"
      },
      "source": [
        "x=34.78\n",
        "int(x) # convert to int from float"
      ],
      "execution_count": null,
      "outputs": [
        {
          "data": {
            "text/plain": [
              "34"
            ]
          },
          "execution_count": 46,
          "metadata": {},
          "output_type": "execute_result"
        }
      ]
    },
    {
      "cell_type": "code",
      "metadata": {
        "id": "Wo9wjDgTE_zB"
      },
      "source": [
        ""
      ],
      "execution_count": null,
      "outputs": []
    },
    {
      "cell_type": "markdown",
      "metadata": {
        "id": "XFLtVZLRE_zB"
      },
      "source": [
        "### Python Operators"
      ]
    },
    {
      "cell_type": "markdown",
      "metadata": {
        "id": "fgQeGdZRE_zB"
      },
      "source": [
        "##### Addition +"
      ]
    },
    {
      "cell_type": "code",
      "metadata": {
        "id": "5E8gKi2uE_zB",
        "outputId": "89fb1b07-0cef-4e2a-fbe4-cde5948a5f89"
      },
      "source": [
        "x=10\n",
        "y=5\n",
        "x+y"
      ],
      "execution_count": null,
      "outputs": [
        {
          "data": {
            "text/plain": [
              "15"
            ]
          },
          "execution_count": 47,
          "metadata": {},
          "output_type": "execute_result"
        }
      ]
    },
    {
      "cell_type": "markdown",
      "metadata": {
        "id": "Kh84tY16E_zC"
      },
      "source": [
        "##### Substraction -"
      ]
    },
    {
      "cell_type": "code",
      "metadata": {
        "id": "pmm8_lJgE_zC",
        "outputId": "57d99e5f-3699-4fb3-b7c7-fc53649146a6"
      },
      "source": [
        "x=10\n",
        "y=5\n",
        "x-y"
      ],
      "execution_count": null,
      "outputs": [
        {
          "data": {
            "text/plain": [
              "5"
            ]
          },
          "execution_count": 48,
          "metadata": {},
          "output_type": "execute_result"
        }
      ]
    },
    {
      "cell_type": "markdown",
      "metadata": {
        "id": "cUF654bVE_zC"
      },
      "source": [
        "##### Division /"
      ]
    },
    {
      "cell_type": "code",
      "metadata": {
        "id": "o3X1hbjgE_zD",
        "outputId": "ea5678f6-f85b-4a59-82ff-888593c8d8db"
      },
      "source": [
        "x=10\n",
        "y=3\n",
        "x/y"
      ],
      "execution_count": null,
      "outputs": [
        {
          "data": {
            "text/plain": [
              "3.3333333333333335"
            ]
          },
          "execution_count": 51,
          "metadata": {},
          "output_type": "execute_result"
        }
      ]
    },
    {
      "cell_type": "markdown",
      "metadata": {
        "id": "Fwvp0IpUE_zD"
      },
      "source": [
        "##### Integer Division //"
      ]
    },
    {
      "cell_type": "code",
      "metadata": {
        "id": "SQX2Nj1HE_zD",
        "outputId": "d5da7f21-c90e-4553-c3bd-36af17fa963c"
      },
      "source": [
        "x=10\n",
        "y=3\n",
        "x//y"
      ],
      "execution_count": null,
      "outputs": [
        {
          "data": {
            "text/plain": [
              "3"
            ]
          },
          "execution_count": 53,
          "metadata": {},
          "output_type": "execute_result"
        }
      ]
    },
    {
      "cell_type": "markdown",
      "metadata": {
        "id": "KKFzGq0HE_zD"
      },
      "source": [
        "##### Multiplication *"
      ]
    },
    {
      "cell_type": "code",
      "metadata": {
        "id": "es2zs9CdE_zE",
        "outputId": "daee264f-d5f2-4bca-cc83-4e41fd58bea2"
      },
      "source": [
        "x=5\n",
        "y=3\n",
        "x*y"
      ],
      "execution_count": null,
      "outputs": [
        {
          "data": {
            "text/plain": [
              "15"
            ]
          },
          "execution_count": 54,
          "metadata": {},
          "output_type": "execute_result"
        }
      ]
    },
    {
      "cell_type": "markdown",
      "metadata": {
        "id": "YxHIj-_rE_zE"
      },
      "source": [
        "##### Exponential **"
      ]
    },
    {
      "cell_type": "code",
      "metadata": {
        "id": "3hnE5MGFE_zE",
        "outputId": "965b3987-5757-4e79-90b9-6792863bfac4"
      },
      "source": [
        "x=5\n",
        "y=3\n",
        "x**y"
      ],
      "execution_count": null,
      "outputs": [
        {
          "data": {
            "text/plain": [
              "125"
            ]
          },
          "execution_count": 55,
          "metadata": {},
          "output_type": "execute_result"
        }
      ]
    },
    {
      "cell_type": "markdown",
      "metadata": {
        "id": "zo1BEMQ_E_zE"
      },
      "source": [
        "##### Comparison <, >, <=, >=, !="
      ]
    },
    {
      "cell_type": "code",
      "metadata": {
        "id": "X0J09QsKE_zF"
      },
      "source": [
        "x=20\n",
        "y=30"
      ],
      "execution_count": null,
      "outputs": []
    },
    {
      "cell_type": "code",
      "metadata": {
        "id": "pCMwpyN2E_zF",
        "outputId": "e11d9fc2-b78d-4138-c343-20a07dc5a303"
      },
      "source": [
        "x<y"
      ],
      "execution_count": null,
      "outputs": [
        {
          "data": {
            "text/plain": [
              "True"
            ]
          },
          "execution_count": 57,
          "metadata": {},
          "output_type": "execute_result"
        }
      ]
    },
    {
      "cell_type": "code",
      "metadata": {
        "id": "pO-ryelnE_zF",
        "outputId": "99f4a859-f528-4f58-ed40-52cfa86c563c"
      },
      "source": [
        "x>y"
      ],
      "execution_count": null,
      "outputs": [
        {
          "data": {
            "text/plain": [
              "False"
            ]
          },
          "execution_count": 58,
          "metadata": {},
          "output_type": "execute_result"
        }
      ]
    },
    {
      "cell_type": "code",
      "metadata": {
        "id": "iB5KnhtSE_zF",
        "outputId": "d9ad8933-02e3-4f1a-97fe-e5c428f47854"
      },
      "source": [
        "x<=y"
      ],
      "execution_count": null,
      "outputs": [
        {
          "data": {
            "text/plain": [
              "True"
            ]
          },
          "execution_count": 59,
          "metadata": {},
          "output_type": "execute_result"
        }
      ]
    },
    {
      "cell_type": "code",
      "metadata": {
        "id": "f5TSwh8mE_zG",
        "outputId": "e934ef74-32c1-45f8-884d-cbbd8758f559"
      },
      "source": [
        "x>=y"
      ],
      "execution_count": null,
      "outputs": [
        {
          "data": {
            "text/plain": [
              "False"
            ]
          },
          "execution_count": 60,
          "metadata": {},
          "output_type": "execute_result"
        }
      ]
    },
    {
      "cell_type": "code",
      "metadata": {
        "id": "FYwdxNawE_zG",
        "outputId": "2cdac8c0-30db-4af2-999f-d8524dab0cf3"
      },
      "source": [
        "x!=y"
      ],
      "execution_count": null,
      "outputs": [
        {
          "data": {
            "text/plain": [
              "True"
            ]
          },
          "execution_count": 61,
          "metadata": {},
          "output_type": "execute_result"
        }
      ]
    },
    {
      "cell_type": "code",
      "metadata": {
        "id": "3zlihMULE_zG"
      },
      "source": [
        ""
      ],
      "execution_count": null,
      "outputs": []
    },
    {
      "cell_type": "code",
      "metadata": {
        "id": "fMctfUYgE_zG"
      },
      "source": [
        ""
      ],
      "execution_count": null,
      "outputs": []
    },
    {
      "cell_type": "markdown",
      "metadata": {
        "id": "cJaYcZgFE_zH"
      },
      "source": [
        "##### Logical and, or, not"
      ]
    },
    {
      "cell_type": "code",
      "metadata": {
        "id": "3hOuufxOE_zH",
        "outputId": "01f83d3b-fb6e-4318-d257-7c4cbe0ca7f9"
      },
      "source": [
        "x=True\n",
        "y=False\n",
        "x and y"
      ],
      "execution_count": null,
      "outputs": [
        {
          "data": {
            "text/plain": [
              "False"
            ]
          },
          "execution_count": 73,
          "metadata": {},
          "output_type": "execute_result"
        }
      ]
    },
    {
      "cell_type": "code",
      "metadata": {
        "id": "iO5ZWtjmE_zH",
        "outputId": "11094b78-b993-4aef-f317-e373ca691da7"
      },
      "source": [
        "x=True\n",
        "y=False\n",
        "x or y"
      ],
      "execution_count": null,
      "outputs": [
        {
          "data": {
            "text/plain": [
              "True"
            ]
          },
          "execution_count": 74,
          "metadata": {},
          "output_type": "execute_result"
        }
      ]
    },
    {
      "cell_type": "code",
      "metadata": {
        "id": "bhCHSv0EE_zH",
        "outputId": "7a2c01b2-924b-4b6b-b822-883d76c30b87"
      },
      "source": [
        "x=True\n",
        "\n",
        "not x"
      ],
      "execution_count": null,
      "outputs": [
        {
          "data": {
            "text/plain": [
              "False"
            ]
          },
          "execution_count": 75,
          "metadata": {},
          "output_type": "execute_result"
        }
      ]
    },
    {
      "cell_type": "code",
      "metadata": {
        "id": "uEDp87dUE_zI",
        "outputId": "4c2612a2-4cfe-418e-a159-48dcb49e9a10"
      },
      "source": [
        "y=False\n",
        "\n",
        "not y"
      ],
      "execution_count": null,
      "outputs": [
        {
          "data": {
            "text/plain": [
              "True"
            ]
          },
          "execution_count": 76,
          "metadata": {},
          "output_type": "execute_result"
        }
      ]
    },
    {
      "cell_type": "code",
      "metadata": {
        "id": "smEWoNlNE_zI"
      },
      "source": [
        ""
      ],
      "execution_count": null,
      "outputs": []
    },
    {
      "cell_type": "code",
      "metadata": {
        "id": "QAejRjLgE_zI"
      },
      "source": [
        ""
      ],
      "execution_count": null,
      "outputs": []
    },
    {
      "cell_type": "markdown",
      "metadata": {
        "id": "p2XSBaNjE_zI"
      },
      "source": [
        "##### Concatenation of Strings"
      ]
    },
    {
      "cell_type": "code",
      "metadata": {
        "id": "zRHBKzwOE_zI",
        "outputId": "8a824574-19d7-43d1-8236-f71c1b8339c2"
      },
      "source": [
        "s1='Hello...'\n",
        "s2='Cognizant#'\n",
        "\n",
        "s1+s2"
      ],
      "execution_count": null,
      "outputs": [
        {
          "data": {
            "text/plain": [
              "'Hello...Cognizant#'"
            ]
          },
          "execution_count": 88,
          "metadata": {},
          "output_type": "execute_result"
        }
      ]
    },
    {
      "cell_type": "code",
      "metadata": {
        "id": "Pyf_77muE_zJ",
        "outputId": "efcb815c-22a6-480d-dc77-cc8205d67d90"
      },
      "source": [
        "s1*5"
      ],
      "execution_count": null,
      "outputs": [
        {
          "data": {
            "text/plain": [
              "'Hello...Hello...Hello...Hello...Hello...'"
            ]
          },
          "execution_count": 89,
          "metadata": {},
          "output_type": "execute_result"
        }
      ]
    },
    {
      "cell_type": "code",
      "metadata": {
        "id": "2gjnnU93E_zJ",
        "outputId": "b366d443-7a6c-4fa4-f103-9c53d06941b8"
      },
      "source": [
        "s2*9"
      ],
      "execution_count": null,
      "outputs": [
        {
          "data": {
            "text/plain": [
              "'Cognizant#Cognizant#Cognizant#Cognizant#Cognizant#Cognizant#Cognizant#Cognizant#Cognizant#'"
            ]
          },
          "execution_count": 90,
          "metadata": {},
          "output_type": "execute_result"
        }
      ]
    },
    {
      "cell_type": "code",
      "metadata": {
        "id": "PqS-SGthE_zJ"
      },
      "source": [
        ""
      ],
      "execution_count": null,
      "outputs": []
    }
  ]
}