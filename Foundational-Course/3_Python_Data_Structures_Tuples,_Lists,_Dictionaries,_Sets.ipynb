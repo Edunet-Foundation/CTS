{
  "nbformat": 4,
  "nbformat_minor": 0,
  "metadata": {
    "kernelspec": {
      "display_name": "Python 3",
      "language": "python",
      "name": "python3"
    },
    "language_info": {
      "codemirror_mode": {
        "name": "ipython",
        "version": 3
      },
      "file_extension": ".py",
      "mimetype": "text/x-python",
      "name": "python",
      "nbconvert_exporter": "python",
      "pygments_lexer": "ipython3",
      "version": "3.7.6"
    },
    "colab": {
      "name": "3. Python Data Structures- Tuples, Lists, Dictionaries, Sets.ipynb",
      "provenance": [],
      "include_colab_link": true
    }
  },
  "cells": [
    {
      "cell_type": "markdown",
      "metadata": {
        "id": "view-in-github",
        "colab_type": "text"
      },
      "source": [
        "<a href=\"https://colab.research.google.com/github/Edunet-Foundation/CTS/blob/main/Foundational-Course/3_Python_Data_Structures_Tuples%2C_Lists%2C_Dictionaries%2C_Sets.ipynb\" target=\"_parent\"><img src=\"https://colab.research.google.com/assets/colab-badge.svg\" alt=\"Open In Colab\"/></a>"
      ]
    },
    {
      "cell_type": "markdown",
      "metadata": {
        "id": "oY0qJbx0FCiy"
      },
      "source": [
        "# Python Data Structures"
      ]
    },
    {
      "cell_type": "markdown",
      "metadata": {
        "id": "2IL_NAzEFCi1"
      },
      "source": [
        "### Python Supports inbuilt data structures like Tuples, Lists, Dictionary, Sets"
      ]
    },
    {
      "cell_type": "markdown",
      "metadata": {
        "id": "iYzZJbsrFCi2"
      },
      "source": [
        "### Python Tuples"
      ]
    },
    {
      "cell_type": "markdown",
      "metadata": {
        "id": "GvDIAj6lFCi2"
      },
      "source": [
        "##### Tuples in python are immutable sequence of elements taht supports all object and data types of python"
      ]
    },
    {
      "cell_type": "code",
      "metadata": {
        "id": "uyKycaohFCi3"
      },
      "source": [
        "tup=tuple()"
      ],
      "execution_count": null,
      "outputs": []
    },
    {
      "cell_type": "code",
      "metadata": {
        "id": "gYjFXJkoFCi4"
      },
      "source": [
        "tup=(1,2,3,4,5,6)"
      ],
      "execution_count": null,
      "outputs": []
    },
    {
      "cell_type": "code",
      "metadata": {
        "id": "smSX7VUNFCi4",
        "outputId": "7038cc7e-5c2a-44e8-c9c2-4ca58f000fa2"
      },
      "source": [
        "print(tup)"
      ],
      "execution_count": null,
      "outputs": [
        {
          "name": "stdout",
          "output_type": "stream",
          "text": [
            "(1, 2, 3, 4, 5, 6)\n"
          ]
        }
      ]
    },
    {
      "cell_type": "code",
      "metadata": {
        "id": "IhGoFVGkFCi6",
        "outputId": "2cf31202-c766-4f25-c129-7aa3a4ffb74b"
      },
      "source": [
        "print(type(tup))"
      ],
      "execution_count": null,
      "outputs": [
        {
          "name": "stdout",
          "output_type": "stream",
          "text": [
            "<class 'tuple'>\n"
          ]
        }
      ]
    },
    {
      "cell_type": "code",
      "metadata": {
        "id": "C9BLJXD6FCi7",
        "outputId": "52983fb1-70be-4485-82f3-c8e55446c4a6"
      },
      "source": [
        "print(len(tup))"
      ],
      "execution_count": null,
      "outputs": [
        {
          "name": "stdout",
          "output_type": "stream",
          "text": [
            "6\n"
          ]
        }
      ]
    },
    {
      "cell_type": "code",
      "metadata": {
        "id": "U8jBgSKHFCi7",
        "outputId": "5c7aeeba-90a7-4a58-fc93-f75c23cd79b5"
      },
      "source": [
        "tup[2]"
      ],
      "execution_count": null,
      "outputs": [
        {
          "data": {
            "text/plain": [
              "3"
            ]
          },
          "execution_count": 14,
          "metadata": {},
          "output_type": "execute_result"
        }
      ]
    },
    {
      "cell_type": "markdown",
      "metadata": {
        "id": "qFE6qqLCFCi8"
      },
      "source": [
        "##### Tuples also support indexing, index slicing"
      ]
    },
    {
      "cell_type": "code",
      "metadata": {
        "id": "t8N9DgCbFCi8",
        "outputId": "c8ce46eb-ecb2-449f-b3b4-1a7cbb1854e2"
      },
      "source": [
        "tup[1:4]"
      ],
      "execution_count": null,
      "outputs": [
        {
          "data": {
            "text/plain": [
              "(2, 3, 4)"
            ]
          },
          "execution_count": 16,
          "metadata": {},
          "output_type": "execute_result"
        }
      ]
    },
    {
      "cell_type": "code",
      "metadata": {
        "id": "F6-We2qzFCi9",
        "outputId": "c39da33a-d81e-4922-c947-66e890efd4cc"
      },
      "source": [
        "tup[-1]"
      ],
      "execution_count": null,
      "outputs": [
        {
          "data": {
            "text/plain": [
              "6"
            ]
          },
          "execution_count": 17,
          "metadata": {},
          "output_type": "execute_result"
        }
      ]
    },
    {
      "cell_type": "code",
      "metadata": {
        "id": "8LxBZApgFCi-",
        "outputId": "c2caf10f-b8da-4ce9-e8b4-2924c0a664e0"
      },
      "source": [
        "tup[-3:-1]"
      ],
      "execution_count": null,
      "outputs": [
        {
          "data": {
            "text/plain": [
              "(4, 5)"
            ]
          },
          "execution_count": 21,
          "metadata": {},
          "output_type": "execute_result"
        }
      ]
    },
    {
      "cell_type": "code",
      "metadata": {
        "id": "9zDzf5o7FCjE",
        "outputId": "f2f53a56-1623-4a18-8d9e-37621f67fa5d"
      },
      "source": [
        "tup[:]"
      ],
      "execution_count": null,
      "outputs": [
        {
          "data": {
            "text/plain": [
              "(1, 2, 3, 4, 5, 6)"
            ]
          },
          "execution_count": 22,
          "metadata": {},
          "output_type": "execute_result"
        }
      ]
    },
    {
      "cell_type": "markdown",
      "metadata": {
        "id": "pGs7m-UiFCjE"
      },
      "source": [
        "##### Tuples are immutable, can not be changed"
      ]
    },
    {
      "cell_type": "code",
      "metadata": {
        "id": "q0x5GT-QFCjE",
        "outputId": "c674f13b-c9d9-4583-d968-2567b7417bad"
      },
      "source": [
        "tup[2]=20"
      ],
      "execution_count": null,
      "outputs": [
        {
          "ename": "TypeError",
          "evalue": "'tuple' object does not support item assignment",
          "output_type": "error",
          "traceback": [
            "\u001b[1;31m---------------------------------------------------------------------------\u001b[0m",
            "\u001b[1;31mTypeError\u001b[0m                                 Traceback (most recent call last)",
            "\u001b[1;32m<ipython-input-23-3bfa3cb6ad5f>\u001b[0m in \u001b[0;36m<module>\u001b[1;34m\u001b[0m\n\u001b[1;32m----> 1\u001b[1;33m \u001b[0mtup\u001b[0m\u001b[1;33m[\u001b[0m\u001b[1;36m2\u001b[0m\u001b[1;33m]\u001b[0m\u001b[1;33m=\u001b[0m\u001b[1;36m20\u001b[0m\u001b[1;33m\u001b[0m\u001b[1;33m\u001b[0m\u001b[0m\n\u001b[0m",
            "\u001b[1;31mTypeError\u001b[0m: 'tuple' object does not support item assignment"
          ]
        }
      ]
    },
    {
      "cell_type": "markdown",
      "metadata": {
        "id": "jewZiF10FCjF"
      },
      "source": [
        "##### Tuples can be duplicated and copied"
      ]
    },
    {
      "cell_type": "code",
      "metadata": {
        "id": "TIAtcbmUFCjF"
      },
      "source": [
        "tup2=tup[2:4]"
      ],
      "execution_count": null,
      "outputs": []
    },
    {
      "cell_type": "code",
      "metadata": {
        "id": "cVrfjQafFCjF",
        "outputId": "ff79cfe8-8e85-403d-9a0a-ef62bb5a4c0c"
      },
      "source": [
        "tup2"
      ],
      "execution_count": null,
      "outputs": [
        {
          "data": {
            "text/plain": [
              "(3, 4)"
            ]
          },
          "execution_count": 25,
          "metadata": {},
          "output_type": "execute_result"
        }
      ]
    },
    {
      "cell_type": "markdown",
      "metadata": {
        "id": "T0T3Z6hrFCjG"
      },
      "source": [
        "##### Tuples can be concatenated like strings using + and * symbols"
      ]
    },
    {
      "cell_type": "code",
      "metadata": {
        "id": "Lg2Xg6iBFCjG"
      },
      "source": [
        "tup3=('a','b','hello')"
      ],
      "execution_count": null,
      "outputs": []
    },
    {
      "cell_type": "code",
      "metadata": {
        "id": "iRSiE0iSFCjG",
        "outputId": "82f66ba0-d4fa-4d18-bb18-81ee7cf4d626"
      },
      "source": [
        "tup+tup3"
      ],
      "execution_count": null,
      "outputs": [
        {
          "data": {
            "text/plain": [
              "(1, 2, 3, 4, 5, 6, 'a', 'b', 'hello')"
            ]
          },
          "execution_count": 27,
          "metadata": {},
          "output_type": "execute_result"
        }
      ]
    },
    {
      "cell_type": "code",
      "metadata": {
        "id": "Pj-m1815FCjH",
        "outputId": "b565099d-ead5-4adf-b03e-c4f1d384d4aa"
      },
      "source": [
        "tup3*3"
      ],
      "execution_count": null,
      "outputs": [
        {
          "data": {
            "text/plain": [
              "('a', 'b', 'hello', 'a', 'b', 'hello', 'a', 'b', 'hello')"
            ]
          },
          "execution_count": 29,
          "metadata": {},
          "output_type": "execute_result"
        }
      ]
    },
    {
      "cell_type": "markdown",
      "metadata": {
        "id": "wad3RhmtFCjH"
      },
      "source": [
        "##### Tuples can have nested tuples and can be indexed to any depth"
      ]
    },
    {
      "cell_type": "code",
      "metadata": {
        "id": "S34k9e9nFCjH"
      },
      "source": [
        "tup=(7,8,9,4, 'hello', (3,4,5,'hi'), 20)"
      ],
      "execution_count": null,
      "outputs": []
    },
    {
      "cell_type": "code",
      "metadata": {
        "id": "4GrtMnZcFCjH",
        "outputId": "17f7f17e-c08a-47c1-bb0c-bef4aecc5034"
      },
      "source": [
        "tup[4]"
      ],
      "execution_count": null,
      "outputs": [
        {
          "data": {
            "text/plain": [
              "'hello'"
            ]
          },
          "execution_count": 31,
          "metadata": {},
          "output_type": "execute_result"
        }
      ]
    },
    {
      "cell_type": "code",
      "metadata": {
        "id": "fc-82NKKFCjI",
        "outputId": "f6cb9b51-9cee-4b4e-b0a2-a66dc08d4055"
      },
      "source": [
        "tup[5]"
      ],
      "execution_count": null,
      "outputs": [
        {
          "data": {
            "text/plain": [
              "(3, 4, 5, 'hi')"
            ]
          },
          "execution_count": 33,
          "metadata": {},
          "output_type": "execute_result"
        }
      ]
    },
    {
      "cell_type": "code",
      "metadata": {
        "id": "GbiFKxtcFCjI",
        "outputId": "4a7f12a6-67fa-4b76-90f9-88a782276e2a"
      },
      "source": [
        "tup[5][3] #double indexing for nested elements"
      ],
      "execution_count": null,
      "outputs": [
        {
          "data": {
            "text/plain": [
              "'hi'"
            ]
          },
          "execution_count": 36,
          "metadata": {},
          "output_type": "execute_result"
        }
      ]
    },
    {
      "cell_type": "markdown",
      "metadata": {
        "id": "5nRXZAlGFCjI"
      },
      "source": [
        "### Python Lists\n",
        "\n",
        "##### Lists are similar to tuples, but can be mutated, or modified"
      ]
    },
    {
      "cell_type": "code",
      "metadata": {
        "id": "wzNaVXx9FCjJ"
      },
      "source": [
        "list1=list()"
      ],
      "execution_count": null,
      "outputs": []
    },
    {
      "cell_type": "code",
      "metadata": {
        "id": "JRFjVMfnFCjJ"
      },
      "source": [
        "list1=[1,2,3,4,5,6]"
      ],
      "execution_count": null,
      "outputs": []
    },
    {
      "cell_type": "code",
      "metadata": {
        "id": "zv8zGAWnFCjJ",
        "outputId": "d479a1e7-6e71-4164-f8d0-e6efe5408fb5"
      },
      "source": [
        "print(type(list1))"
      ],
      "execution_count": null,
      "outputs": [
        {
          "name": "stdout",
          "output_type": "stream",
          "text": [
            "<class 'list'>\n"
          ]
        }
      ]
    },
    {
      "cell_type": "code",
      "metadata": {
        "id": "3u26HfKwFCjK",
        "outputId": "8b96ca58-bce2-4980-bb02-979a2ba51b11"
      },
      "source": [
        "print(len(list1))"
      ],
      "execution_count": null,
      "outputs": [
        {
          "name": "stdout",
          "output_type": "stream",
          "text": [
            "6\n"
          ]
        }
      ]
    },
    {
      "cell_type": "code",
      "metadata": {
        "id": "5yOhKWleFCjK",
        "outputId": "10ad881e-f21c-4605-88bb-becbc5149432"
      },
      "source": [
        "list1[3]"
      ],
      "execution_count": null,
      "outputs": [
        {
          "data": {
            "text/plain": [
              "4"
            ]
          },
          "execution_count": 41,
          "metadata": {},
          "output_type": "execute_result"
        }
      ]
    },
    {
      "cell_type": "code",
      "metadata": {
        "id": "xxRpYfEmFCjL",
        "outputId": "578e3aab-6e80-4a0e-b36a-0f9618600ae2"
      },
      "source": [
        "list1[2:5]"
      ],
      "execution_count": null,
      "outputs": [
        {
          "data": {
            "text/plain": [
              "[3, 4, 5]"
            ]
          },
          "execution_count": 42,
          "metadata": {},
          "output_type": "execute_result"
        }
      ]
    },
    {
      "cell_type": "markdown",
      "metadata": {
        "id": "SKVEug0AFCjL"
      },
      "source": [
        "###### List are mutable"
      ]
    },
    {
      "cell_type": "code",
      "metadata": {
        "id": "HtVKsGBDFCjL"
      },
      "source": [
        "list1[3]=40 #replace element at indec 3 with new value"
      ],
      "execution_count": null,
      "outputs": []
    },
    {
      "cell_type": "code",
      "metadata": {
        "id": "U7pmI4EdFCjM",
        "outputId": "6d47bb56-7f04-4319-e2c1-92cc95ae7cde"
      },
      "source": [
        "list1"
      ],
      "execution_count": null,
      "outputs": [
        {
          "data": {
            "text/plain": [
              "[1, 2, 3, 40, 5, 6]"
            ]
          },
          "execution_count": 46,
          "metadata": {},
          "output_type": "execute_result"
        }
      ]
    },
    {
      "cell_type": "markdown",
      "metadata": {
        "id": "HqJBONhnFCjM"
      },
      "source": [
        "##### List has many functions"
      ]
    },
    {
      "cell_type": "code",
      "metadata": {
        "id": "ik3s5oBAFCjM",
        "outputId": "0280882b-aaa8-438a-9e65-72de7feffbc0"
      },
      "source": [
        "list1.index(40)"
      ],
      "execution_count": null,
      "outputs": [
        {
          "data": {
            "text/plain": [
              "3"
            ]
          },
          "execution_count": 48,
          "metadata": {},
          "output_type": "execute_result"
        }
      ]
    },
    {
      "cell_type": "code",
      "metadata": {
        "collapsed": true,
        "id": "FC4r2xBkFCjN",
        "outputId": "17436e5e-9ca9-44b6-a260-d1cb7812222b"
      },
      "source": [
        "list1.remove(5) #remove passed element if it exist in list, else give error"
      ],
      "execution_count": null,
      "outputs": [
        {
          "ename": "ValueError",
          "evalue": "list.remove(x): x not in list",
          "output_type": "error",
          "traceback": [
            "\u001b[1;31m---------------------------------------------------------------------------\u001b[0m",
            "\u001b[1;31mValueError\u001b[0m                                Traceback (most recent call last)",
            "\u001b[1;32m<ipython-input-53-8bc97ffa5737>\u001b[0m in \u001b[0;36m<module>\u001b[1;34m\u001b[0m\n\u001b[1;32m----> 1\u001b[1;33m \u001b[0mlist1\u001b[0m\u001b[1;33m.\u001b[0m\u001b[0mremove\u001b[0m\u001b[1;33m(\u001b[0m\u001b[1;36m5\u001b[0m\u001b[1;33m)\u001b[0m \u001b[1;31m#remove passed element if it exist in list, else give error\u001b[0m\u001b[1;33m\u001b[0m\u001b[1;33m\u001b[0m\u001b[0m\n\u001b[0m",
            "\u001b[1;31mValueError\u001b[0m: list.remove(x): x not in list"
          ]
        }
      ]
    },
    {
      "cell_type": "code",
      "metadata": {
        "id": "v-JKQVjNFCjN",
        "outputId": "8b34fff3-da48-4591-fb4b-8be523504778"
      },
      "source": [
        "list1"
      ],
      "execution_count": null,
      "outputs": [
        {
          "data": {
            "text/plain": [
              "[1, 2, 3, 40, 6]"
            ]
          },
          "execution_count": 50,
          "metadata": {},
          "output_type": "execute_result"
        }
      ]
    },
    {
      "cell_type": "code",
      "metadata": {
        "id": "UKT0tWojFCjN",
        "outputId": "caee10b8-ffc3-4c9b-ea11-a164089517b7"
      },
      "source": [
        "list1.pop(2) #removes element at specified index and returns back removed element "
      ],
      "execution_count": null,
      "outputs": [
        {
          "data": {
            "text/plain": [
              "40"
            ]
          },
          "execution_count": 54,
          "metadata": {},
          "output_type": "execute_result"
        }
      ]
    },
    {
      "cell_type": "code",
      "metadata": {
        "id": "s0LQr3t4FCjN",
        "outputId": "00ac3acc-611e-4e75-bb9d-8c67d74fc04d"
      },
      "source": [
        "list1"
      ],
      "execution_count": null,
      "outputs": [
        {
          "data": {
            "text/plain": [
              "[1, 2, 6]"
            ]
          },
          "execution_count": 55,
          "metadata": {},
          "output_type": "execute_result"
        }
      ]
    },
    {
      "cell_type": "markdown",
      "metadata": {
        "id": "U3tEQ3RuFCjO"
      },
      "source": [
        "##### Values can also be inserted in list at specified index using insert() function"
      ]
    },
    {
      "cell_type": "code",
      "metadata": {
        "id": "fmMQ9nAyFCjO"
      },
      "source": [
        "list1.insert(3,30)"
      ],
      "execution_count": null,
      "outputs": []
    },
    {
      "cell_type": "code",
      "metadata": {
        "id": "ScXuPSUrFCjO",
        "outputId": "4b339a3c-52ac-47e7-fa02-cc391072eb7c"
      },
      "source": [
        "list1"
      ],
      "execution_count": null,
      "outputs": [
        {
          "data": {
            "text/plain": [
              "[1, 2, 6, 30]"
            ]
          },
          "execution_count": 88,
          "metadata": {},
          "output_type": "execute_result"
        }
      ]
    },
    {
      "cell_type": "code",
      "metadata": {
        "id": "YYwe_YwoFCjO"
      },
      "source": [
        "list1.insert(1,20)"
      ],
      "execution_count": null,
      "outputs": []
    },
    {
      "cell_type": "code",
      "metadata": {
        "id": "P3TXQL5BFCjO",
        "outputId": "35c466fd-c69e-47a1-d497-6e3aecfa7a34"
      },
      "source": [
        "list1"
      ],
      "execution_count": null,
      "outputs": [
        {
          "data": {
            "text/plain": [
              "[1, 20, 2, 6, 30]"
            ]
          },
          "execution_count": 90,
          "metadata": {},
          "output_type": "execute_result"
        }
      ]
    },
    {
      "cell_type": "markdown",
      "metadata": {
        "id": "iArNr2XFFCjP"
      },
      "source": [
        "##### To add element to end of list we can use append() function"
      ]
    },
    {
      "cell_type": "code",
      "metadata": {
        "id": "JoRJwyRFFCjP"
      },
      "source": [
        "list1.append(80)"
      ],
      "execution_count": null,
      "outputs": []
    },
    {
      "cell_type": "code",
      "metadata": {
        "id": "6VkcpI5MFCjP",
        "outputId": "09c67caa-2955-44cc-c501-0f22b51738ed"
      },
      "source": [
        "list1"
      ],
      "execution_count": null,
      "outputs": [
        {
          "data": {
            "text/plain": [
              "[1, 20, 2, 6, 30, 80]"
            ]
          },
          "execution_count": 92,
          "metadata": {},
          "output_type": "execute_result"
        }
      ]
    },
    {
      "cell_type": "markdown",
      "metadata": {
        "id": "0moTTTmwFCjP"
      },
      "source": [
        "##### Also, add elements from another list to end of current list using extend() function"
      ]
    },
    {
      "cell_type": "code",
      "metadata": {
        "id": "JkVGndX3FCjQ"
      },
      "source": [
        "list2=['a','b','c']\n",
        "list1.extend(list2)"
      ],
      "execution_count": null,
      "outputs": []
    },
    {
      "cell_type": "code",
      "metadata": {
        "id": "V3Jm375lFCjQ",
        "outputId": "6eeb345c-d7a9-4717-e9c4-42c8ea60f242"
      },
      "source": [
        "list1"
      ],
      "execution_count": null,
      "outputs": [
        {
          "data": {
            "text/plain": [
              "[1, 20, 2, 6, 30, 80, 'a', 'b', 'c']"
            ]
          },
          "execution_count": 94,
          "metadata": {},
          "output_type": "execute_result"
        }
      ]
    },
    {
      "cell_type": "markdown",
      "metadata": {
        "id": "H1RHn86xFCjQ"
      },
      "source": [
        "##### Lists can also be concatenated"
      ]
    },
    {
      "cell_type": "code",
      "metadata": {
        "id": "7kxbNYkLFCjR",
        "outputId": "db87e8c2-d136-445a-8ebc-d97cfb2b0d32"
      },
      "source": [
        "list1+list2"
      ],
      "execution_count": null,
      "outputs": [
        {
          "data": {
            "text/plain": [
              "[1, 20, 2, 6, 30, 80, 'a', 'b', 'c', 'a', 'b', 'c']"
            ]
          },
          "execution_count": 95,
          "metadata": {},
          "output_type": "execute_result"
        }
      ]
    },
    {
      "cell_type": "code",
      "metadata": {
        "id": "Npxc3JgZFCjR",
        "outputId": "3a0a1172-7e98-411e-ab26-101ea37f7116"
      },
      "source": [
        "list2*3"
      ],
      "execution_count": null,
      "outputs": [
        {
          "data": {
            "text/plain": [
              "['a', 'b', 'c', 'a', 'b', 'c', 'a', 'b', 'c']"
            ]
          },
          "execution_count": 96,
          "metadata": {},
          "output_type": "execute_result"
        }
      ]
    },
    {
      "cell_type": "markdown",
      "metadata": {
        "id": "lnHAgfnrFCjR"
      },
      "source": [
        "##### List values can be sorted using sort() and can be reversed using reverse()"
      ]
    },
    {
      "cell_type": "code",
      "metadata": {
        "id": "vUhO_qLdFCjR"
      },
      "source": [
        "list1=[30,89,23,1,78,45]\n",
        "list1.sort()"
      ],
      "execution_count": null,
      "outputs": []
    },
    {
      "cell_type": "code",
      "metadata": {
        "id": "0zYwSbCCFCjS",
        "outputId": "c7758e59-9802-4b16-8ced-fa0d544d58fb"
      },
      "source": [
        "list1"
      ],
      "execution_count": null,
      "outputs": [
        {
          "data": {
            "text/plain": [
              "[1, 23, 30, 45, 78, 89]"
            ]
          },
          "execution_count": 101,
          "metadata": {},
          "output_type": "execute_result"
        }
      ]
    },
    {
      "cell_type": "code",
      "metadata": {
        "id": "oHylevjqFCjS",
        "outputId": "36de8413-ac21-4ad7-bbb7-cde6c0c2dce8"
      },
      "source": [
        "list1.reverse()\n",
        "list1"
      ],
      "execution_count": null,
      "outputs": [
        {
          "data": {
            "text/plain": [
              "[89, 78, 45, 30, 23, 1]"
            ]
          },
          "execution_count": 102,
          "metadata": {},
          "output_type": "execute_result"
        }
      ]
    },
    {
      "cell_type": "markdown",
      "metadata": {
        "id": "gz0shNblFCjT"
      },
      "source": [
        "##### Lst can be made empty"
      ]
    },
    {
      "cell_type": "code",
      "metadata": {
        "id": "HsnnPnTxFCjT",
        "outputId": "ad24479d-3f07-43d7-b0f3-7e68a966ef54"
      },
      "source": [
        "list1.clear()\n",
        "list1"
      ],
      "execution_count": null,
      "outputs": [
        {
          "data": {
            "text/plain": [
              "[]"
            ]
          },
          "execution_count": 103,
          "metadata": {},
          "output_type": "execute_result"
        }
      ]
    },
    {
      "cell_type": "markdown",
      "metadata": {
        "id": "3mhlXld-FCjT"
      },
      "source": [
        "### Python Dictionary\n",
        "\n",
        "##### Dictionaries are not a sequence, infact it is a key:value pair data structure"
      ]
    },
    {
      "cell_type": "code",
      "metadata": {
        "id": "GAV1Q4PjFCjU"
      },
      "source": [
        "d=dict()\n",
        "d={'a':1, 'b':2, 'c':3, 'd':4, 'e':5}"
      ],
      "execution_count": null,
      "outputs": []
    },
    {
      "cell_type": "code",
      "metadata": {
        "id": "SeE1SGQaFCjU",
        "outputId": "1b211f39-6fea-4b57-99b4-5c5f5542e59e"
      },
      "source": [
        "print(d)"
      ],
      "execution_count": null,
      "outputs": [
        {
          "name": "stdout",
          "output_type": "stream",
          "text": [
            "{'a': 1, 'b': 2, 'c': 3, 'd': 4, 'e': 5}\n"
          ]
        }
      ]
    },
    {
      "cell_type": "code",
      "metadata": {
        "id": "hqEq9GC9FCjV",
        "outputId": "efdfb3b7-b921-44db-982a-6da7c07870f7"
      },
      "source": [
        "print(type(d))"
      ],
      "execution_count": null,
      "outputs": [
        {
          "name": "stdout",
          "output_type": "stream",
          "text": [
            "<class 'dict'>\n"
          ]
        }
      ]
    },
    {
      "cell_type": "code",
      "metadata": {
        "id": "vYztGjCgFCjV",
        "outputId": "e2ab42fa-b694-45d9-9b44-5eca3b52763e"
      },
      "source": [
        "print(len(d))"
      ],
      "execution_count": null,
      "outputs": [
        {
          "name": "stdout",
          "output_type": "stream",
          "text": [
            "5\n"
          ]
        }
      ]
    },
    {
      "cell_type": "markdown",
      "metadata": {
        "id": "dh8cDha8FCjV"
      },
      "source": [
        "##### Dictonary keys and values can be separately extracted"
      ]
    },
    {
      "cell_type": "code",
      "metadata": {
        "id": "4unBbIdnFCjV",
        "outputId": "1a045a3d-ce5d-47af-c290-7511658acf14"
      },
      "source": [
        "d.keys()"
      ],
      "execution_count": null,
      "outputs": [
        {
          "data": {
            "text/plain": [
              "dict_keys(['a', 'b', 'c', 'd', 'e'])"
            ]
          },
          "execution_count": 62,
          "metadata": {},
          "output_type": "execute_result"
        }
      ]
    },
    {
      "cell_type": "code",
      "metadata": {
        "id": "XUxIiyvNFCjW",
        "outputId": "6756ff04-3510-4f4c-d9d5-6e37e799e9f4"
      },
      "source": [
        "d.values()"
      ],
      "execution_count": null,
      "outputs": [
        {
          "data": {
            "text/plain": [
              "dict_values([1, 2, 3, 4, 5])"
            ]
          },
          "execution_count": 63,
          "metadata": {},
          "output_type": "execute_result"
        }
      ]
    },
    {
      "cell_type": "code",
      "metadata": {
        "id": "e75oqZ2VFCjW",
        "outputId": "c94e24eb-75d9-4616-cdfd-a646e481b4cb"
      },
      "source": [
        "d.items()"
      ],
      "execution_count": null,
      "outputs": [
        {
          "data": {
            "text/plain": [
              "dict_items([('a', 1), ('b', 2), ('c', 3), ('d', 4), ('e', 5)])"
            ]
          },
          "execution_count": 64,
          "metadata": {},
          "output_type": "execute_result"
        }
      ]
    },
    {
      "cell_type": "markdown",
      "metadata": {
        "id": "2Wbrbe4tFCjW"
      },
      "source": [
        "##### Dictionary can be copied using copy function"
      ]
    },
    {
      "cell_type": "code",
      "metadata": {
        "id": "zx2j7SEGFCjX"
      },
      "source": [
        "d2=d.copy()"
      ],
      "execution_count": null,
      "outputs": []
    },
    {
      "cell_type": "code",
      "metadata": {
        "id": "Rr4961ClFCjX",
        "outputId": "e72e3ea5-d115-4626-aca2-836e64756eaf"
      },
      "source": [
        "d2"
      ],
      "execution_count": null,
      "outputs": [
        {
          "data": {
            "text/plain": [
              "{'a': 1, 'b': 2, 'c': 3, 'd': 4, 'e': 5}"
            ]
          },
          "execution_count": 67,
          "metadata": {},
          "output_type": "execute_result"
        }
      ]
    },
    {
      "cell_type": "markdown",
      "metadata": {
        "id": "iHwzZo0_FCjX"
      },
      "source": [
        "##### Dictionary can be extended using another dictionary"
      ]
    },
    {
      "cell_type": "code",
      "metadata": {
        "id": "TyQiwvnTFCjY"
      },
      "source": [
        "d2={'f':6, 'g':7}"
      ],
      "execution_count": null,
      "outputs": []
    },
    {
      "cell_type": "code",
      "metadata": {
        "id": "HPOm_-RmFCjY"
      },
      "source": [
        "d.update(d2)"
      ],
      "execution_count": null,
      "outputs": []
    },
    {
      "cell_type": "code",
      "metadata": {
        "id": "Qxlf9EMDFCjY",
        "outputId": "d1028066-f8e7-4cd2-9646-0a647cc3f7f4"
      },
      "source": [
        "print(d)"
      ],
      "execution_count": null,
      "outputs": [
        {
          "name": "stdout",
          "output_type": "stream",
          "text": [
            "{'a': 1, 'b': 2, 'c': 3, 'd': 4, 'e': 5, 'f': 6, 'g': 7}\n"
          ]
        }
      ]
    },
    {
      "cell_type": "markdown",
      "metadata": {
        "id": "Z-K3VRkHFCjY"
      },
      "source": [
        "##### get() fucntions returns value of specific key"
      ]
    },
    {
      "cell_type": "code",
      "metadata": {
        "id": "f8YZgygkFCjZ",
        "outputId": "256343b8-a186-470f-a051-7c18946d7590"
      },
      "source": [
        "d.get('f')"
      ],
      "execution_count": null,
      "outputs": [
        {
          "data": {
            "text/plain": [
              "6"
            ]
          },
          "execution_count": 78,
          "metadata": {},
          "output_type": "execute_result"
        }
      ]
    },
    {
      "cell_type": "markdown",
      "metadata": {
        "id": "uU95aivIFCjZ"
      },
      "source": [
        "##### Remove elements from dictionary"
      ]
    },
    {
      "cell_type": "code",
      "metadata": {
        "id": "dPehmichFCja",
        "outputId": "9d975035-19ee-4809-d758-f0f2ea3657e6"
      },
      "source": [
        "d.popitem() #removes last enetred key:value pair"
      ],
      "execution_count": null,
      "outputs": [
        {
          "data": {
            "text/plain": [
              "('g', 7)"
            ]
          },
          "execution_count": 79,
          "metadata": {},
          "output_type": "execute_result"
        }
      ]
    },
    {
      "cell_type": "code",
      "metadata": {
        "id": "5JThJa09FCja",
        "outputId": "ad8d4b78-6a57-4885-8d8e-bba4456a2d24"
      },
      "source": [
        "d"
      ],
      "execution_count": null,
      "outputs": [
        {
          "data": {
            "text/plain": [
              "{'a': 1, 'b': 2, 'c': 3, 'd': 4, 'e': 5, 'f': 6}"
            ]
          },
          "execution_count": 80,
          "metadata": {},
          "output_type": "execute_result"
        }
      ]
    },
    {
      "cell_type": "code",
      "metadata": {
        "id": "0Gu0kU3tFCjb",
        "outputId": "091d3242-862a-4fac-86dd-8ee66de38258"
      },
      "source": [
        "d.pop('c') #remoes element with specific key"
      ],
      "execution_count": null,
      "outputs": [
        {
          "data": {
            "text/plain": [
              "3"
            ]
          },
          "execution_count": 81,
          "metadata": {},
          "output_type": "execute_result"
        }
      ]
    },
    {
      "cell_type": "code",
      "metadata": {
        "id": "T-gR4QtCFCjb",
        "outputId": "8508c9cc-7c2e-4e91-94c9-0420ab77b375"
      },
      "source": [
        "d"
      ],
      "execution_count": null,
      "outputs": [
        {
          "data": {
            "text/plain": [
              "{'a': 1, 'b': 2, 'd': 4, 'e': 5, 'f': 6}"
            ]
          },
          "execution_count": 82,
          "metadata": {},
          "output_type": "execute_result"
        }
      ]
    },
    {
      "cell_type": "markdown",
      "metadata": {
        "id": "gRfEPshyFCjb"
      },
      "source": [
        "##### Quickly create dictionary with default values and keys from a list of key values"
      ]
    },
    {
      "cell_type": "code",
      "metadata": {
        "id": "7rKF8hDtFCjc"
      },
      "source": [
        "keys=['A','B','C','D']\n",
        "default_value=99\n",
        "\n",
        "d=dict.fromkeys(keys, default_value)"
      ],
      "execution_count": null,
      "outputs": []
    },
    {
      "cell_type": "code",
      "metadata": {
        "id": "1okdziLmFCjc",
        "outputId": "6b3dd1a3-c840-463f-864b-4bf31202f9fe"
      },
      "source": [
        "print(d)"
      ],
      "execution_count": null,
      "outputs": [
        {
          "name": "stdout",
          "output_type": "stream",
          "text": [
            "{'A': 99, 'B': 99, 'C': 99, 'D': 99}\n"
          ]
        }
      ]
    },
    {
      "cell_type": "markdown",
      "metadata": {
        "id": "qxHoz6DLFCjc"
      },
      "source": [
        "##### Dictionary can be cleared using clear() function"
      ]
    },
    {
      "cell_type": "code",
      "metadata": {
        "id": "Wlwz16rAFCjd"
      },
      "source": [
        "d.clear()"
      ],
      "execution_count": null,
      "outputs": []
    },
    {
      "cell_type": "code",
      "metadata": {
        "id": "s_D0yJ1aFCjd",
        "outputId": "005ba08e-ba56-46f3-cba4-979b0b72949a"
      },
      "source": [
        "d"
      ],
      "execution_count": null,
      "outputs": [
        {
          "data": {
            "text/plain": [
              "{}"
            ]
          },
          "execution_count": 86,
          "metadata": {},
          "output_type": "execute_result"
        }
      ]
    },
    {
      "cell_type": "code",
      "metadata": {
        "id": "JBHja1OSFCjd"
      },
      "source": [
        ""
      ],
      "execution_count": null,
      "outputs": []
    }
  ]
}