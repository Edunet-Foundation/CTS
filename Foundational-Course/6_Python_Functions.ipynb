{
  "nbformat": 4,
  "nbformat_minor": 0,
  "metadata": {
    "kernelspec": {
      "display_name": "Python 3",
      "language": "python",
      "name": "python3"
    },
    "language_info": {
      "codemirror_mode": {
        "name": "ipython",
        "version": 3
      },
      "file_extension": ".py",
      "mimetype": "text/x-python",
      "name": "python",
      "nbconvert_exporter": "python",
      "pygments_lexer": "ipython3",
      "version": "3.7.6"
    },
    "colab": {
      "name": "6. Python Functions.ipynb",
      "provenance": [],
      "include_colab_link": true
    }
  },
  "cells": [
    {
      "cell_type": "markdown",
      "metadata": {
        "id": "view-in-github",
        "colab_type": "text"
      },
      "source": [
        "<a href=\"https://colab.research.google.com/github/Edunet-Foundation/CTS/blob/main/Foundational-Course/6_Python_Functions.ipynb\" target=\"_parent\"><img src=\"https://colab.research.google.com/assets/colab-badge.svg\" alt=\"Open In Colab\"/></a>"
      ]
    },
    {
      "cell_type": "markdown",
      "metadata": {
        "id": "Rj_HTCqyFETc"
      },
      "source": [
        "# Python Functions"
      ]
    },
    {
      "cell_type": "markdown",
      "metadata": {
        "id": "7MGPpf3qFETe"
      },
      "source": [
        "#### Functions in python can be defined using def keyword as follows"
      ]
    },
    {
      "cell_type": "code",
      "metadata": {
        "id": "LVyvAqIaFETe"
      },
      "source": [
        "# function syntax, with header and parameters\n",
        "\n",
        "def myfun(x,y):\n",
        "    print(x,y)"
      ],
      "execution_count": null,
      "outputs": []
    },
    {
      "cell_type": "code",
      "metadata": {
        "id": "-JMuvb2jFETf",
        "outputId": "0b7b67fd-9f0c-4368-fd9d-53936b4f001d"
      },
      "source": [
        "# to call function myfun() we need to call it using parameter values \n",
        "\n",
        "myfun(10,20)"
      ],
      "execution_count": null,
      "outputs": [
        {
          "name": "stdout",
          "output_type": "stream",
          "text": [
            "10 20\n"
          ]
        }
      ]
    },
    {
      "cell_type": "markdown",
      "metadata": {
        "id": "y5DTLXhLFETg"
      },
      "source": [
        "#### Function with return statement"
      ]
    },
    {
      "cell_type": "code",
      "metadata": {
        "id": "Xjx6Z_EwFETh"
      },
      "source": [
        "# fucntion with return\n",
        "def myfun(x,y):\n",
        "    sum=x+y\n",
        "    return sum"
      ],
      "execution_count": null,
      "outputs": []
    },
    {
      "cell_type": "code",
      "metadata": {
        "id": "jSBctui5FETh",
        "outputId": "fe6ca48f-e9af-448c-be51-59f847a97a2e"
      },
      "source": [
        "# call and accpt return value \n",
        "\n",
        "sum_value=myfun(20,50)\n",
        "print(sum_value)"
      ],
      "execution_count": null,
      "outputs": [
        {
          "name": "stdout",
          "output_type": "stream",
          "text": [
            "70\n"
          ]
        }
      ]
    },
    {
      "cell_type": "markdown",
      "metadata": {
        "id": "y2JJ98RhFETh"
      },
      "source": [
        "#### Default Parameters"
      ]
    },
    {
      "cell_type": "code",
      "metadata": {
        "id": "TXlhcG_-FETh"
      },
      "source": [
        "# function can accept default parameters, that vlue would be used if we do not pass any value to function call for \n",
        "# default parameters\n",
        "# Default parameters must always follow non-default parameters\n",
        "\n",
        "def message(msg1, msg2, msg3='Thanks'):\n",
        "    print(msg1, msg2, msg3, sep=' ')"
      ],
      "execution_count": null,
      "outputs": []
    },
    {
      "cell_type": "code",
      "metadata": {
        "id": "G26-aKC1FETi",
        "outputId": "7d48c948-298a-4d61-8b47-386ad00010f0"
      },
      "source": [
        "# with all parameter values\n",
        "message('Hello,', 'How are you?', 'Bye!' )"
      ],
      "execution_count": null,
      "outputs": [
        {
          "name": "stdout",
          "output_type": "stream",
          "text": [
            "Hello, How are you? Bye!\n"
          ]
        }
      ]
    },
    {
      "cell_type": "code",
      "metadata": {
        "id": "OAG1or3TFETi",
        "outputId": "80b0d559-6663-4431-e3a8-8ce38cfdedc0"
      },
      "source": [
        "# without passing value for default parameter\n",
        "message('Hello,', 'How are you?' )"
      ],
      "execution_count": null,
      "outputs": [
        {
          "name": "stdout",
          "output_type": "stream",
          "text": [
            "Hello, How are you? Thanks\n"
          ]
        }
      ]
    },
    {
      "cell_type": "markdown",
      "metadata": {
        "id": "SKSOhXJfFETi"
      },
      "source": [
        "#### Example"
      ]
    },
    {
      "cell_type": "code",
      "metadata": {
        "id": "S_BjClkDFETi"
      },
      "source": [
        "def calculate(basic, da, hra, other_allowances=5000):\n",
        "    return basic+da+hra+other_allowances"
      ],
      "execution_count": null,
      "outputs": []
    },
    {
      "cell_type": "code",
      "metadata": {
        "id": "961cbmAVFETi",
        "outputId": "7adf3082-71ab-4f3b-e8b5-5844fb5d22c1"
      },
      "source": [
        "salary=calculate(40000, 20000, 4000, 7000)\n",
        "print(salary)"
      ],
      "execution_count": null,
      "outputs": [
        {
          "name": "stdout",
          "output_type": "stream",
          "text": [
            "71000\n"
          ]
        }
      ]
    },
    {
      "cell_type": "code",
      "metadata": {
        "id": "J3LQt3ZzFETj",
        "outputId": "f34254f1-8215-4626-ccd7-16567df021a0"
      },
      "source": [
        "salary=calculate(40000, 20000, 4000)\n",
        "print(salary)"
      ],
      "execution_count": null,
      "outputs": [
        {
          "name": "stdout",
          "output_type": "stream",
          "text": [
            "69000\n"
          ]
        }
      ]
    },
    {
      "cell_type": "code",
      "metadata": {
        "id": "UpmqbLifFETj",
        "outputId": "eb421457-5c72-47f9-c799-74bf7521e161"
      },
      "source": [
        "emp_type='new'\n",
        "salary=0\n",
        "if emp_type=='new':\n",
        "    salary=calculate(40000, 20000, 4000)\n",
        "else:\n",
        "    salary=calculate(40000, 20000, 4000, 7000)\n",
        "    \n",
        "print('Salary: ', salary)"
      ],
      "execution_count": null,
      "outputs": [
        {
          "name": "stdout",
          "output_type": "stream",
          "text": [
            "Salary:  69000\n"
          ]
        }
      ]
    },
    {
      "cell_type": "code",
      "metadata": {
        "id": "DIAop1HPFETj",
        "outputId": "4ac031a8-a006-4a94-a0e2-53b1745d4b74"
      },
      "source": [
        "emp_type='old'\n",
        "salary=0\n",
        "if emp_type=='new':\n",
        "    salary=calculate(40000, 20000, 4000)\n",
        "else:\n",
        "    salary=calculate(40000, 20000, 4000, 7000)\n",
        "    \n",
        "print('Salary: ', salary)"
      ],
      "execution_count": null,
      "outputs": [
        {
          "name": "stdout",
          "output_type": "stream",
          "text": [
            "Salary:  71000\n"
          ]
        }
      ]
    },
    {
      "cell_type": "markdown",
      "metadata": {
        "id": "v06QUD8EFETj"
      },
      "source": [
        "#### Order of passing values to parameters can be altered using parameter name as keyword for passing values"
      ]
    },
    {
      "cell_type": "code",
      "metadata": {
        "id": "-dWdaDtTFETj"
      },
      "source": [
        "def Greet(msg1, msg2, msg3):\n",
        "    print(msg1, msg2, msg3)"
      ],
      "execution_count": null,
      "outputs": []
    },
    {
      "cell_type": "code",
      "metadata": {
        "id": "OgQsBW_PFETk",
        "outputId": "f102445b-7f39-4abb-d2ae-de35036251e0"
      },
      "source": [
        "Greet('hi','hello', 'bye')"
      ],
      "execution_count": null,
      "outputs": [
        {
          "name": "stdout",
          "output_type": "stream",
          "text": [
            "hi hello bye\n"
          ]
        }
      ]
    },
    {
      "cell_type": "code",
      "metadata": {
        "id": "AP71jno8FETk",
        "outputId": "58f65729-54d8-4d3f-8152-a7a5dfc3542e"
      },
      "source": [
        "Greet(msg3='Thanks', msg1='Hello', msg2='How are u?')"
      ],
      "execution_count": null,
      "outputs": [
        {
          "name": "stdout",
          "output_type": "stream",
          "text": [
            "Hello How are u? Thanks\n"
          ]
        }
      ]
    },
    {
      "cell_type": "markdown",
      "metadata": {
        "id": "5q9tIFZqFETk"
      },
      "source": [
        "#### Exercise:"
      ]
    },
    {
      "cell_type": "code",
      "metadata": {
        "id": "TPAfX5VPFETk"
      },
      "source": [
        "# write function to find simple ineterst from parameters of principal amount, rate of ineterst and years of deposit"
      ],
      "execution_count": null,
      "outputs": []
    },
    {
      "cell_type": "code",
      "metadata": {
        "id": "FNq6Pw0LFETk"
      },
      "source": [
        ""
      ],
      "execution_count": null,
      "outputs": []
    },
    {
      "cell_type": "code",
      "metadata": {
        "id": "SIcFnFqaFETk"
      },
      "source": [
        "# write a function to print a pyramid of numbers wir parameters as num of rows"
      ],
      "execution_count": null,
      "outputs": []
    },
    {
      "cell_type": "code",
      "metadata": {
        "id": "_FaOyFLGFETl"
      },
      "source": [
        ""
      ],
      "execution_count": null,
      "outputs": []
    }
  ]
}